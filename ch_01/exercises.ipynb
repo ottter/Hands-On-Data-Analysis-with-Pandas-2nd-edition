{
 "cells": [
  {
   "cell_type": "markdown",
   "metadata": {},
   "source": [
    "# Coding exercises\n",
    "Exercises 1-3 are thought exercises that don't require coding. If you need a Python crash-course/refresher, work through the [`python_101.ipynb`](./python_101.ipynb) notebook in chapter 1.\n",
    "\n",
    "## Exercise 4: Generate the data by running this cell\n",
    "This will give you a list of numbers to work with in the remaining exercises."
   ]
  },
  {
   "cell_type": "code",
   "execution_count": 8,
   "metadata": {},
   "outputs": [],
   "source": [
    "import random\n",
    "\n",
    "random.seed(0)\n",
    "salaries = [round(random.random()*1000000, -3) for _ in range(100)]"
   ]
  },
  {
   "cell_type": "markdown",
   "metadata": {},
   "source": [
    "## Exercise 5: Calculating statistics and verifying\n",
    "### mean"
   ]
  },
  {
   "cell_type": "code",
   "execution_count": 41,
   "metadata": {},
   "outputs": [
    {
     "name": "stdout",
     "output_type": "stream",
     "text": [
      "$585,690.00\n"
     ]
    }
   ],
   "source": [
    "def as_money(input):\n",
    "    # Format the input as USD since the input is salaries\n",
    "    return f\"${input:,.2f}\"\n",
    "\n",
    "sal_mean = sum(salaries) / len(salaries)\n",
    "print(as_money(sal_mean))"
   ]
  },
  {
   "cell_type": "markdown",
   "metadata": {},
   "source": [
    "### median"
   ]
  },
  {
   "cell_type": "code",
   "execution_count": 27,
   "metadata": {},
   "outputs": [
    {
     "name": "stdout",
     "output_type": "stream",
     "text": [
      "$589,000.00\n"
     ]
    }
   ],
   "source": [
    "from statistics import median\n",
    "# I hope it's okay to use statistics to complete some of these, since it's built-in to Python\n",
    "# https://docs.python.org/3/library/statistics.html\n",
    "\n",
    "print(as_money(median(salaries)))"
   ]
  },
  {
   "cell_type": "markdown",
   "metadata": {},
   "source": [
    "### mode"
   ]
  },
  {
   "cell_type": "code",
   "execution_count": 28,
   "metadata": {},
   "outputs": [
    {
     "name": "stdout",
     "output_type": "stream",
     "text": [
      "$477,000.00\n"
     ]
    }
   ],
   "source": [
    "from statistics import mode\n",
    "# https://docs.python.org/3/library/statistics.html#statistics.mode\n",
    "print(as_money(mode(salaries)))"
   ]
  },
  {
   "cell_type": "markdown",
   "metadata": {},
   "source": [
    "### sample variance\n",
    "Remember to use Bessel's correction."
   ]
  },
  {
   "cell_type": "code",
   "execution_count": 29,
   "metadata": {},
   "outputs": [
    {
     "name": "stdout",
     "output_type": "stream",
     "text": [
      "70664054444.44444\n"
     ]
    }
   ],
   "source": [
    "from statistics import variance\n",
    "\n",
    "# Bessel's correction is using n-1 instead of n which is included in statistics.variance\n",
    "# https://docs.python.org/3/library/statistics.html#statistics.variance\n",
    "print(variance(salaries))"
   ]
  },
  {
   "cell_type": "markdown",
   "metadata": {},
   "source": [
    "### sample standard deviation\n",
    "Remember to use Bessel's correction."
   ]
  },
  {
   "cell_type": "code",
   "execution_count": 30,
   "metadata": {},
   "outputs": [
    {
     "name": "stdout",
     "output_type": "stream",
     "text": [
      "265827.11382484\n"
     ]
    }
   ],
   "source": [
    "from statistics import stdev\n",
    "# https://docs.python.org/3/library/statistics.html#statistics.stdev\n",
    "\n",
    "print(stdev(salaries))"
   ]
  },
  {
   "cell_type": "markdown",
   "metadata": {},
   "source": [
    "## Exercise 6: Calculating more statistics\n",
    "### range"
   ]
  },
  {
   "cell_type": "code",
   "execution_count": 31,
   "metadata": {},
   "outputs": [
    {
     "name": "stdout",
     "output_type": "stream",
     "text": [
      "995000.0\n"
     ]
    }
   ],
   "source": [
    "sal_range = max(salaries) - min(salaries)\n",
    "# max = built-in function to find highest number in a list\n",
    "# min = built-in function to find lowest number in a list\n",
    "print(sal_range)"
   ]
  },
  {
   "cell_type": "markdown",
   "metadata": {},
   "source": [
    "### coefficient of variation\n",
    "Make sure to use the sample standard deviation."
   ]
  },
  {
   "cell_type": "code",
   "execution_count": 33,
   "metadata": {},
   "outputs": [
    {
     "name": "stdout",
     "output_type": "stream",
     "text": [
      "45.38699889443903\n"
     ]
    }
   ],
   "source": [
    "from statistics import mean, stdev\n",
    "# cv = sample stdev / mean * 100\n",
    "cv = (stdev(salaries) / mean(salaries)) *100\n",
    "print(cv)"
   ]
  },
  {
   "cell_type": "markdown",
   "metadata": {},
   "source": [
    "### interquartile range"
   ]
  },
  {
   "cell_type": "code",
   "execution_count": 34,
   "metadata": {},
   "outputs": [
    {
     "name": "stdout",
     "output_type": "stream",
     "text": [
      "413250.0\n"
     ]
    }
   ],
   "source": [
    "from numpy import percentile\n",
    "# iqr = q3 (75%) - q1 (25%)\n",
    "# numpy.percentile is the best way to find the quartiles of a list\n",
    "iqr = percentile(salaries, 75) - percentile(salaries, 25)\n",
    "print(iqr)"
   ]
  },
  {
   "cell_type": "markdown",
   "metadata": {},
   "source": [
    "### quartile coefficent of dispersion"
   ]
  },
  {
   "cell_type": "code",
   "execution_count": 35,
   "metadata": {},
   "outputs": [
    {
     "name": "stdout",
     "output_type": "stream",
     "text": [
      "0.338660110633067\n"
     ]
    }
   ],
   "source": [
    "from numpy import percentile\n",
    "# https://www.statisticshowto.com/coefficient-of-dispersion/\n",
    "# qcd = (q3 - q1) / (q3 + q1)\n",
    "q1 = percentile(salaries, 25)\n",
    "q3 = percentile(salaries, 75)\n",
    "qcd = (q3 - q1) / (q3 + q1)\n",
    "print(qcd)"
   ]
  },
  {
   "cell_type": "markdown",
   "metadata": {},
   "source": [
    "## Exercise 7: Scaling data\n",
    "### min-max scaling"
   ]
  },
  {
   "cell_type": "code",
   "execution_count": 57,
   "metadata": {},
   "outputs": [
    {
     "name": "stdout",
     "output_type": "stream",
     "text": [
      "[0.0, 0.01306532663316583, 0.07939698492462312, 0.0814070351758794, 0.08944723618090453, 0.10050251256281408, 0.10854271356783919, 0.18693467336683417, 0.18894472361809045, 0.19095477386934673]\n"
     ]
    }
   ],
   "source": [
    "# min-max scaling = sal_scaled\n",
    "# sal_scaled = (x - min(x)) / range(x) where x = each data point\n",
    "# this formula will scale the data to the range [0,1] to normalize it\n",
    "\n",
    "sal_range = max(salaries) - min(salaries)      # get range of salaries\n",
    "sal_scaled = [(x - min(salaries)) / sal_range for x in salaries]\n",
    "\n",
    "# I prefer to use list comprehensions. as a regular loop it would look something like:\n",
    "# sal_list = []\n",
    "# for x in salaries\n",
    "#   sal_scaled = (x - min(x)) / range(x)\n",
    "#   sal_list.append(sal_scaled)\n",
    "\n",
    "print(sal_scaled[:10])"
   ]
  },
  {
   "cell_type": "markdown",
   "metadata": {},
   "source": [
    "### standardizing"
   ]
  },
  {
   "cell_type": "code",
   "execution_count": 58,
   "metadata": {},
   "outputs": [
    {
     "name": "stdout",
     "output_type": "stream",
     "text": [
      "[-2.199512275430514, -2.150608309943509, -1.9023266390094862, -1.8948029520114855, -1.8647082040194827, -1.8233279255304788, -1.7932331775384762, -1.4998093846164489, -1.4922856976184482, -1.4847620106204475]\n"
     ]
    }
   ],
   "source": [
    "from statistics import mean, stdev\n",
    "# z-score = ( datapoint - (mean of dataset)) / stdev )\n",
    "\n",
    "sal_mean = mean(salaries)\n",
    "sal_stdev = stdev(salaries)\n",
    "z_score = [(x - sal_mean) / sal_stdev for x in salaries]\n",
    "# similar to min-max scaling, this list comp as a loop looks something like:\n",
    "# z_score = []\n",
    "# for x in salaries\n",
    "#     score = (x - sal_mean) / sal_stdev\n",
    "#     z_score.append(score)\n",
    "\n",
    "print(z_score[:10])"
   ]
  },
  {
   "cell_type": "markdown",
   "metadata": {},
   "source": [
    "## Exercise 8: Calculating covariance and correlation\n",
    "### covariance"
   ]
  },
  {
   "cell_type": "code",
   "execution_count": 60,
   "metadata": {},
   "outputs": [
    {
     "name": "stdout",
     "output_type": "stream",
     "text": [
      "numpy solution:\n",
      "[[0.07137603 0.26716293]\n",
      " [0.26716293 1.        ]]\n",
      "function solution:\n",
      "0.26449129918250414\n"
     ]
    }
   ],
   "source": [
    "from numpy import cov\n",
    "from statistics import mean\n",
    "\n",
    "# cov(X, Y) = E[(X - E[X])(Y - E[Y])]\n",
    "# cov(X, Y) = covariance\n",
    "# E[X] = expected value of X = sum of all  possible values of X * probability\n",
    "# covariance of x and y = mean of ((dp - mean of x set)(dp - mean of y set))\n",
    "# dp = datapoint, I will have to loop through each list\n",
    "# https://numpy.org/doc/stable/reference/generated/numpy.cov.html\n",
    "\n",
    "x = sal_scaled      # Min Max Scaling from previous exercise\n",
    "y = z_score         # Standardization from previous exercise\n",
    "\n",
    "sal_cov = cov(x, y)\n",
    "print(f\"numpy solution:\\n{sal_cov}\")\n",
    "\n",
    "# Since using numpy for everything feels like a cop out, this is (kind of) what it's doing\n",
    "def covariance(x, y):\n",
    "    # x_dp and y_dp = datapoints of x and y\n",
    "    # zip pairs the two lists (x and y) together based on index position\n",
    "    # note that the lists MUST be equal length\n",
    "    return mean([(x_dp - mean(x)) * (y_dp - mean(y)) for x_dp, y_dp in zip(x, y)])\n",
    "\n",
    "print(f\"function solution:\\n{covariance(x, y)}\")"
   ]
  },
  {
   "cell_type": "markdown",
   "metadata": {},
   "source": [
    "### Pearson correlation coefficient ($\\rho$)"
   ]
  },
  {
   "cell_type": "code",
   "execution_count": 59,
   "metadata": {},
   "outputs": [
    {
     "name": "stdout",
     "output_type": "stream",
     "text": [
      "0.9900000000000001\n"
     ]
    }
   ],
   "source": [
    "from statistics import stdev\n",
    "\n",
    "# p = cov(x, y) / (stdev(x) * stdev(y))\n",
    "\n",
    "x = sal_scaled\n",
    "y = z_score\n",
    "sal_pearson = covariance(x, y) / (stdev(x) * stdev(y))\n",
    "print(sal_pearson)"
   ]
  },
  {
   "cell_type": "markdown",
   "metadata": {},
   "source": [
    "<hr>\n",
    "<div style=\"overflow: hidden; margin-bottom: 10px;\">\n",
    "    <div style=\"float: left;\">\n",
    "        <a href=\"./python_101.ipynb\">\n",
    "            <button>Python 101</button>\n",
    "        </a>\n",
    "    </div>\n",
    "    <div style=\"float: right;\">\n",
    "        <a href=\"../../solutions/ch_01/solutions.ipynb\">\n",
    "            <button>Solutions</button>\n",
    "        </a>\n",
    "        <a href=\"../ch_02/1-pandas_data_structures.ipynb\">\n",
    "            <button>Chapter 2 &#8594;</button>\n",
    "        </a>\n",
    "    </div>\n",
    "</div>\n",
    "<hr>"
   ]
  }
 ],
 "metadata": {
  "kernelspec": {
   "display_name": "msit",
   "language": "python",
   "name": "python3"
  },
  "language_info": {
   "codemirror_mode": {
    "name": "ipython",
    "version": 3
   },
   "file_extension": ".py",
   "mimetype": "text/x-python",
   "name": "python",
   "nbconvert_exporter": "python",
   "pygments_lexer": "ipython3",
   "version": "3.8.17"
  },
  "vscode": {
   "interpreter": {
    "hash": "ab991d4324ae0ce001fda905ea938315e2d91c72b0d372419c929c5524475fbf"
   }
  }
 },
 "nbformat": 4,
 "nbformat_minor": 4
}
