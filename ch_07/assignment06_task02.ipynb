{
 "cells": [
  {
   "cell_type": "markdown",
   "id": "e1bbbdb0",
   "metadata": {},
   "source": [
    "Task II: Read through Chapter 7 (Financial Analysis – Bitcoin and the Stock Market) of the textbook and learn how Python can be used for collecting and analyzing financial data. Your submission should include\n",
    "\n",
    "        a. All created ipynb files. \n",
    "        b. A docs/pdf file that includes detailed screenshots and description for each screenshot. \n",
    "* It is not required, but for your learning, you may want to run the codes in other two sections of the chapter. "
   ]
  },
  {
   "cell_type": "code",
   "execution_count": null,
   "id": "61a883cc",
   "metadata": {},
   "outputs": [],
   "source": []
  }
 ],
 "metadata": {
  "kernelspec": {
   "display_name": "Python 3 (ipykernel)",
   "language": "python",
   "name": "python3"
  },
  "language_info": {
   "codemirror_mode": {
    "name": "ipython",
    "version": 3
   },
   "file_extension": ".py",
   "mimetype": "text/x-python",
   "name": "python",
   "nbconvert_exporter": "python",
   "pygments_lexer": "ipython3",
   "version": "3.8.17"
  }
 },
 "nbformat": 4,
 "nbformat_minor": 5
}
