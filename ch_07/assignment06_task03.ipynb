{
 "cells": [
  {
   "cell_type": "markdown",
   "id": "c1390b86",
   "metadata": {},
   "source": [
    "Task III: Do the Exercises at the end of the Chapter 7. \n",
    "\n",
    "        a. All created ipynb files. \n",
    "        b. A docs/pdf file that includes detailed screenshots and description for each screenshot.       \n"
   ]
  },
  {
   "cell_type": "code",
   "execution_count": 1,
   "id": "fafd6fc1",
   "metadata": {},
   "outputs": [
    {
     "ename": "TypeError",
     "evalue": "string indices must be integers",
     "output_type": "error",
     "traceback": [
      "\u001b[1;31m---------------------------------------------------------------------------\u001b[0m",
      "\u001b[1;31mTypeError\u001b[0m                                 Traceback (most recent call last)",
      "Cell \u001b[1;32mIn[1], line 13\u001b[0m\n\u001b[0;32m     10\u001b[0m reader \u001b[38;5;241m=\u001b[39m stock_analysis\u001b[38;5;241m.\u001b[39mStockReader(start_date, end_date)\n\u001b[0;32m     12\u001b[0m \u001b[38;5;66;03m# get faang data\u001b[39;00m\n\u001b[1;32m---> 13\u001b[0m fb, aapl, amzn, nflx, goog \u001b[38;5;241m=\u001b[39m (\n\u001b[0;32m     14\u001b[0m     reader\u001b[38;5;241m.\u001b[39mget_ticker_data(ticker)\n\u001b[0;32m     15\u001b[0m     \u001b[38;5;28;01mfor\u001b[39;00m ticker \u001b[38;5;129;01min\u001b[39;00m [\u001b[38;5;124m'\u001b[39m\u001b[38;5;124mMETA\u001b[39m\u001b[38;5;124m'\u001b[39m, \u001b[38;5;124m'\u001b[39m\u001b[38;5;124mAAPL\u001b[39m\u001b[38;5;124m'\u001b[39m, \u001b[38;5;124m'\u001b[39m\u001b[38;5;124mAMZN\u001b[39m\u001b[38;5;124m'\u001b[39m, \u001b[38;5;124m'\u001b[39m\u001b[38;5;124mNFLX\u001b[39m\u001b[38;5;124m'\u001b[39m, \u001b[38;5;124m'\u001b[39m\u001b[38;5;124mGOOG\u001b[39m\u001b[38;5;124m'\u001b[39m]\n\u001b[0;32m     16\u001b[0m )\n\u001b[0;32m     18\u001b[0m \u001b[38;5;66;03m# get S&P 500 data\u001b[39;00m\n\u001b[0;32m     19\u001b[0m sp \u001b[38;5;241m=\u001b[39m reader\u001b[38;5;241m.\u001b[39mget_index_data(\u001b[38;5;124m'\u001b[39m\u001b[38;5;124mS&P 500\u001b[39m\u001b[38;5;124m'\u001b[39m)\n",
      "Cell \u001b[1;32mIn[1], line 14\u001b[0m, in \u001b[0;36m<genexpr>\u001b[1;34m(.0)\u001b[0m\n\u001b[0;32m     10\u001b[0m reader \u001b[38;5;241m=\u001b[39m stock_analysis\u001b[38;5;241m.\u001b[39mStockReader(start_date, end_date)\n\u001b[0;32m     12\u001b[0m \u001b[38;5;66;03m# get faang data\u001b[39;00m\n\u001b[0;32m     13\u001b[0m fb, aapl, amzn, nflx, goog \u001b[38;5;241m=\u001b[39m (\n\u001b[1;32m---> 14\u001b[0m     \u001b[43mreader\u001b[49m\u001b[38;5;241;43m.\u001b[39;49m\u001b[43mget_ticker_data\u001b[49m\u001b[43m(\u001b[49m\u001b[43mticker\u001b[49m\u001b[43m)\u001b[49m\n\u001b[0;32m     15\u001b[0m     \u001b[38;5;28;01mfor\u001b[39;00m ticker \u001b[38;5;129;01min\u001b[39;00m [\u001b[38;5;124m'\u001b[39m\u001b[38;5;124mMETA\u001b[39m\u001b[38;5;124m'\u001b[39m, \u001b[38;5;124m'\u001b[39m\u001b[38;5;124mAAPL\u001b[39m\u001b[38;5;124m'\u001b[39m, \u001b[38;5;124m'\u001b[39m\u001b[38;5;124mAMZN\u001b[39m\u001b[38;5;124m'\u001b[39m, \u001b[38;5;124m'\u001b[39m\u001b[38;5;124mNFLX\u001b[39m\u001b[38;5;124m'\u001b[39m, \u001b[38;5;124m'\u001b[39m\u001b[38;5;124mGOOG\u001b[39m\u001b[38;5;124m'\u001b[39m]\n\u001b[0;32m     16\u001b[0m )\n\u001b[0;32m     18\u001b[0m \u001b[38;5;66;03m# get S&P 500 data\u001b[39;00m\n\u001b[0;32m     19\u001b[0m sp \u001b[38;5;241m=\u001b[39m reader\u001b[38;5;241m.\u001b[39mget_index_data(\u001b[38;5;124m'\u001b[39m\u001b[38;5;124mS&P 500\u001b[39m\u001b[38;5;124m'\u001b[39m)\n",
      "File \u001b[1;32m~\\anaconda3\\envs\\msit\\lib\\site-packages\\stock_analysis\\utils.py:39\u001b[0m, in \u001b[0;36mlabel_sanitizer.<locals>.method_wrapper\u001b[1;34m(self, *args, **kwargs)\u001b[0m\n\u001b[0;32m     37\u001b[0m \u001b[38;5;129m@wraps\u001b[39m(method)\n\u001b[0;32m     38\u001b[0m \u001b[38;5;28;01mdef\u001b[39;00m \u001b[38;5;21mmethod_wrapper\u001b[39m(\u001b[38;5;28mself\u001b[39m, \u001b[38;5;241m*\u001b[39margs, \u001b[38;5;241m*\u001b[39m\u001b[38;5;241m*\u001b[39mkwargs):\n\u001b[1;32m---> 39\u001b[0m     df \u001b[38;5;241m=\u001b[39m \u001b[43mmethod\u001b[49m\u001b[43m(\u001b[49m\u001b[38;5;28;43mself\u001b[39;49m\u001b[43m,\u001b[49m\u001b[43m \u001b[49m\u001b[38;5;241;43m*\u001b[39;49m\u001b[43margs\u001b[49m\u001b[43m,\u001b[49m\u001b[43m \u001b[49m\u001b[38;5;241;43m*\u001b[39;49m\u001b[38;5;241;43m*\u001b[39;49m\u001b[43mkwargs\u001b[49m\u001b[43m)\u001b[49m\n\u001b[0;32m     41\u001b[0m     \u001b[38;5;66;03m# fix the column names\u001b[39;00m\n\u001b[0;32m     42\u001b[0m     df\u001b[38;5;241m.\u001b[39mcolumns \u001b[38;5;241m=\u001b[39m [\n\u001b[0;32m     43\u001b[0m         _sanitize_label(col) \u001b[38;5;28;01mfor\u001b[39;00m col \u001b[38;5;129;01min\u001b[39;00m df\u001b[38;5;241m.\u001b[39mcolumns\n\u001b[0;32m     44\u001b[0m     ]\n",
      "File \u001b[1;32m~\\anaconda3\\envs\\msit\\lib\\site-packages\\stock_analysis\\stock_reader.py:97\u001b[0m, in \u001b[0;36mStockReader.get_ticker_data\u001b[1;34m(self, ticker)\u001b[0m\n\u001b[0;32m     85\u001b[0m \u001b[38;5;129m@label_sanitizer\u001b[39m\n\u001b[0;32m     86\u001b[0m \u001b[38;5;28;01mdef\u001b[39;00m \u001b[38;5;21mget_ticker_data\u001b[39m(\u001b[38;5;28mself\u001b[39m, ticker):\n\u001b[0;32m     87\u001b[0m \u001b[38;5;250m    \u001b[39m\u001b[38;5;124;03m\"\"\"\u001b[39;00m\n\u001b[0;32m     88\u001b[0m \u001b[38;5;124;03m    Get historical OHLC data for given date range and ticker\u001b[39;00m\n\u001b[0;32m     89\u001b[0m \u001b[38;5;124;03m    from Yahoo! Finance.\u001b[39;00m\n\u001b[1;32m   (...)\u001b[0m\n\u001b[0;32m     95\u001b[0m \u001b[38;5;124;03m        A `pandas.DataFrame` object with the stock data.\u001b[39;00m\n\u001b[0;32m     96\u001b[0m \u001b[38;5;124;03m    \"\"\"\u001b[39;00m\n\u001b[1;32m---> 97\u001b[0m     \u001b[38;5;28;01mreturn\u001b[39;00m \u001b[43mweb\u001b[49m\u001b[38;5;241;43m.\u001b[39;49m\u001b[43mget_data_yahoo\u001b[49m\u001b[43m(\u001b[49m\u001b[43mticker\u001b[49m\u001b[43m,\u001b[49m\u001b[43m \u001b[49m\u001b[38;5;28;43mself\u001b[39;49m\u001b[38;5;241;43m.\u001b[39;49m\u001b[43mstart\u001b[49m\u001b[43m,\u001b[49m\u001b[43m \u001b[49m\u001b[38;5;28;43mself\u001b[39;49m\u001b[38;5;241;43m.\u001b[39;49m\u001b[43mend\u001b[49m\u001b[43m)\u001b[49m\n",
      "File \u001b[1;32m~\\anaconda3\\envs\\msit\\lib\\site-packages\\pandas_datareader\\data.py:80\u001b[0m, in \u001b[0;36mget_data_yahoo\u001b[1;34m(*args, **kwargs)\u001b[0m\n\u001b[0;32m     79\u001b[0m \u001b[38;5;28;01mdef\u001b[39;00m \u001b[38;5;21mget_data_yahoo\u001b[39m(\u001b[38;5;241m*\u001b[39margs, \u001b[38;5;241m*\u001b[39m\u001b[38;5;241m*\u001b[39mkwargs):\n\u001b[1;32m---> 80\u001b[0m     \u001b[38;5;28;01mreturn\u001b[39;00m \u001b[43mYahooDailyReader\u001b[49m\u001b[43m(\u001b[49m\u001b[38;5;241;43m*\u001b[39;49m\u001b[43margs\u001b[49m\u001b[43m,\u001b[49m\u001b[43m \u001b[49m\u001b[38;5;241;43m*\u001b[39;49m\u001b[38;5;241;43m*\u001b[39;49m\u001b[43mkwargs\u001b[49m\u001b[43m)\u001b[49m\u001b[38;5;241;43m.\u001b[39;49m\u001b[43mread\u001b[49m\u001b[43m(\u001b[49m\u001b[43m)\u001b[49m\n",
      "File \u001b[1;32m~\\anaconda3\\envs\\msit\\lib\\site-packages\\pandas_datareader\\base.py:253\u001b[0m, in \u001b[0;36m_DailyBaseReader.read\u001b[1;34m(self)\u001b[0m\n\u001b[0;32m    251\u001b[0m \u001b[38;5;66;03m# If a single symbol, (e.g., 'GOOG')\u001b[39;00m\n\u001b[0;32m    252\u001b[0m \u001b[38;5;28;01mif\u001b[39;00m \u001b[38;5;28misinstance\u001b[39m(\u001b[38;5;28mself\u001b[39m\u001b[38;5;241m.\u001b[39msymbols, (string_types, \u001b[38;5;28mint\u001b[39m)):\n\u001b[1;32m--> 253\u001b[0m     df \u001b[38;5;241m=\u001b[39m \u001b[38;5;28;43mself\u001b[39;49m\u001b[38;5;241;43m.\u001b[39;49m\u001b[43m_read_one_data\u001b[49m\u001b[43m(\u001b[49m\u001b[38;5;28;43mself\u001b[39;49m\u001b[38;5;241;43m.\u001b[39;49m\u001b[43murl\u001b[49m\u001b[43m,\u001b[49m\u001b[43m \u001b[49m\u001b[43mparams\u001b[49m\u001b[38;5;241;43m=\u001b[39;49m\u001b[38;5;28;43mself\u001b[39;49m\u001b[38;5;241;43m.\u001b[39;49m\u001b[43m_get_params\u001b[49m\u001b[43m(\u001b[49m\u001b[38;5;28;43mself\u001b[39;49m\u001b[38;5;241;43m.\u001b[39;49m\u001b[43msymbols\u001b[49m\u001b[43m)\u001b[49m\u001b[43m)\u001b[49m\n\u001b[0;32m    254\u001b[0m \u001b[38;5;66;03m# Or multiple symbols, (e.g., ['GOOG', 'AAPL', 'MSFT'])\u001b[39;00m\n\u001b[0;32m    255\u001b[0m \u001b[38;5;28;01melif\u001b[39;00m \u001b[38;5;28misinstance\u001b[39m(\u001b[38;5;28mself\u001b[39m\u001b[38;5;241m.\u001b[39msymbols, DataFrame):\n",
      "File \u001b[1;32m~\\anaconda3\\envs\\msit\\lib\\site-packages\\pandas_datareader\\yahoo\\daily.py:153\u001b[0m, in \u001b[0;36mYahooDailyReader._read_one_data\u001b[1;34m(self, url, params)\u001b[0m\n\u001b[0;32m    151\u001b[0m \u001b[38;5;28;01mtry\u001b[39;00m:\n\u001b[0;32m    152\u001b[0m     j \u001b[38;5;241m=\u001b[39m json\u001b[38;5;241m.\u001b[39mloads(re\u001b[38;5;241m.\u001b[39msearch(ptrn, resp\u001b[38;5;241m.\u001b[39mtext, re\u001b[38;5;241m.\u001b[39mDOTALL)\u001b[38;5;241m.\u001b[39mgroup(\u001b[38;5;241m1\u001b[39m))\n\u001b[1;32m--> 153\u001b[0m     data \u001b[38;5;241m=\u001b[39m \u001b[43mj\u001b[49m\u001b[43m[\u001b[49m\u001b[38;5;124;43m\"\u001b[39;49m\u001b[38;5;124;43mcontext\u001b[39;49m\u001b[38;5;124;43m\"\u001b[39;49m\u001b[43m]\u001b[49m\u001b[43m[\u001b[49m\u001b[38;5;124;43m\"\u001b[39;49m\u001b[38;5;124;43mdispatcher\u001b[39;49m\u001b[38;5;124;43m\"\u001b[39;49m\u001b[43m]\u001b[49m\u001b[43m[\u001b[49m\u001b[38;5;124;43m\"\u001b[39;49m\u001b[38;5;124;43mstores\u001b[39;49m\u001b[38;5;124;43m\"\u001b[39;49m\u001b[43m]\u001b[49m\u001b[43m[\u001b[49m\u001b[38;5;124;43m\"\u001b[39;49m\u001b[38;5;124;43mHistoricalPriceStore\u001b[39;49m\u001b[38;5;124;43m\"\u001b[39;49m\u001b[43m]\u001b[49m\n\u001b[0;32m    154\u001b[0m \u001b[38;5;28;01mexcept\u001b[39;00m \u001b[38;5;167;01mKeyError\u001b[39;00m:\n\u001b[0;32m    155\u001b[0m     msg \u001b[38;5;241m=\u001b[39m \u001b[38;5;124m\"\u001b[39m\u001b[38;5;124mNo data fetched for symbol \u001b[39m\u001b[38;5;132;01m{}\u001b[39;00m\u001b[38;5;124m using \u001b[39m\u001b[38;5;132;01m{}\u001b[39;00m\u001b[38;5;124m\"\u001b[39m\n",
      "\u001b[1;31mTypeError\u001b[0m: string indices must be integers"
     ]
    }
   ],
   "source": [
    "# Setup\n",
    "\n",
    "import stock_analysis\n",
    "from datetime import datetime\n",
    "from stock_analysis.utils import group_stocks, describe_group\n",
    "\n",
    "\n",
    "start_date = datetime.strptime('2019-01-01', '%Y-%m-%d').date()\n",
    "end_date = datetime.strptime('2020-12-31', '%Y-%m-%d').date()\n",
    "reader = stock_analysis.StockReader(start_date, end_date)\n",
    "\n",
    "# get faang data\n",
    "fb, aapl, amzn, nflx, goog = (\n",
    "    reader.get_ticker_data(ticker)\n",
    "    for ticker in ['META', 'AAPL', 'AMZN', 'NFLX', 'GOOG']\n",
    ")\n",
    "\n",
    "# get S&P 500 data\n",
    "sp = reader.get_index_data('S&P 500')\n",
    "\n",
    "# get bitcoin data in USD\n",
    "bitcoin = reader.get_bitcoin_data('USD')\n",
    "\n",
    "faang = group_stocks(\n",
    "    {\n",
    "        'Facebook': fb, \n",
    "        'Apple': aapl, \n",
    "        'Amazon': amzn, \n",
    "        'Netflix': nflx, \n",
    "        'Google': goog\n",
    "    }\n",
    ")\n",
    "\n",
    "faang_sp = group_stocks(\n",
    "    {\n",
    "        'Facebook': fb, \n",
    "        'Apple': aapl, \n",
    "        'Amazon': amzn, \n",
    "        'Netflix': nflx, \n",
    "        'Google': goog,\n",
    "        'S&P 500': sp\n",
    "    }\n",
    ")\n",
    "\n",
    "all_assets = group_stocks(\n",
    "    {\n",
    "        'Bitcoin': bitcoin,\n",
    "        'S&P 500': sp,\n",
    "        'Facebook': fb, \n",
    "        'Apple': aapl, \n",
    "        'Amazon': amzn, \n",
    "        'Netflix': nflx, \n",
    "        'Google': goog\n",
    "    }\n",
    ")"
   ]
  },
  {
   "cell_type": "markdown",
   "id": "1baeec80",
   "metadata": {},
   "source": [
    "1. Using the StockAnalyzer and StockVisualizer classes, calculate and plot \n",
    "three levels of support and resistance for Netflix's closing price."
   ]
  },
  {
   "cell_type": "code",
   "execution_count": 3,
   "id": "d4f2bb51",
   "metadata": {
    "scrolled": false
   },
   "outputs": [
    {
     "ename": "NameError",
     "evalue": "name 'nflx' is not defined",
     "output_type": "error",
     "traceback": [
      "\u001b[1;31m---------------------------------------------------------------------------\u001b[0m",
      "\u001b[1;31mNameError\u001b[0m                                 Traceback (most recent call last)",
      "Cell \u001b[1;32mIn[3], line 4\u001b[0m\n\u001b[0;32m      1\u001b[0m get_ipython()\u001b[38;5;241m.\u001b[39mrun_line_magic(\u001b[38;5;124m'\u001b[39m\u001b[38;5;124mmatplotlib\u001b[39m\u001b[38;5;124m'\u001b[39m, \u001b[38;5;124m'\u001b[39m\u001b[38;5;124minline\u001b[39m\u001b[38;5;124m'\u001b[39m)\n\u001b[0;32m      2\u001b[0m \u001b[38;5;28;01mimport\u001b[39;00m \u001b[38;5;21;01mmatplotlib\u001b[39;00m\u001b[38;5;21;01m.\u001b[39;00m\u001b[38;5;21;01mpyplot\u001b[39;00m \u001b[38;5;28;01mas\u001b[39;00m \u001b[38;5;21;01mplt\u001b[39;00m\n\u001b[1;32m----> 4\u001b[0m netflix_viz \u001b[38;5;241m=\u001b[39m stock_analysis\u001b[38;5;241m.\u001b[39mStockVisualizer(\u001b[43mnflx\u001b[49m)\n",
      "\u001b[1;31mNameError\u001b[0m: name 'nflx' is not defined"
     ]
    }
   ],
   "source": [
    "# Exercise 1\n",
    "\n",
    "%matplotlib inline\n",
    "import matplotlib.pyplot as plt\n",
    "\n",
    "netflix_viz = stock_analysis.StockVisualizer(nflx)"
   ]
  },
  {
   "cell_type": "markdown",
   "id": "3e7b3042",
   "metadata": {},
   "source": [
    "2. With the StockVisualizer class, look at the effect of after-hours trading on the FAANG stocks:\\\n",
    "a) As individual stocks \\\n",
    "b) As a portfolio using the make_portfolio() function from the stock_analysis.utils module"
   ]
  },
  {
   "cell_type": "code",
   "execution_count": null,
   "id": "f35fdd8c",
   "metadata": {},
   "outputs": [],
   "source": [
    "# Exercise 2 A\n",
    "\n",
    "netflix_viz.after_hours_trades()\n",
    "\n",
    "faang_viz = stock_analysis.AssetGroupVisualizer(faang)\n",
    "faang_viz.after_hours_trades()"
   ]
  },
  {
   "cell_type": "code",
   "execution_count": null,
   "id": "0092285d",
   "metadata": {},
   "outputs": [],
   "source": [
    "# Exercise 2 B\n",
    "\n",
    "# def make_portfolio(data, date_level='date'):\n",
    "#  \"\"\"\n",
    "#  Make a portfolio of assets by grouping by date and \n",
    "#  summing all columns.\n",
    "#  Note: the caller is responsible for making sure the \n",
    "#  dates line up across assets and handling when they don't.\n",
    "#  \"\"\"\n",
    "#  return data.groupby(level=date_level).sum()\n",
    "\n",
    "from stock_analysis.utils import make_portfolio\n",
    "\n",
    "stock_analysis.StockVisualizer(make_portfolio(faang)).after_hours_trades()"
   ]
  },
  {
   "cell_type": "markdown",
   "id": "94319779",
   "metadata": {},
   "source": [
    "3. Using the StockVisualizer.open_to_close() method, create a plot that fills the area between the FAANG stocks' opening price (as a portfolio) and its closing price each day in red if the price declined and in green if the price increased. As a bonus, do the same for a portfolio of bitcoin and the S&P 500."
   ]
  },
  {
   "cell_type": "code",
   "execution_count": null,
   "id": "84f1e751",
   "metadata": {},
   "outputs": [],
   "source": [
    "# Exercise 3\n",
    "\n",
    "# def open_to_close(self, figsize=(10, 4)):\n",
    "#  \"\"\"\n",
    "#  Visualize the daily change in price from open to close.\n",
    "#  Parameters:\n",
    "#  - figsize: (width, height) of plotExploratory data analysis 429\n",
    "#  Returns:\n",
    "#  A matplotlib `Axes` object.\n",
    "#  \"\"\"\n",
    "#  ax = self.fill_between(\n",
    "#  self.data.open, self.data.close, \n",
    "#  figsize=figsize, legend_x=0.67,\n",
    "#  title='Daily price change (open to close)',\n",
    "#  label_higher='price rose', label_lower='price fell'\n",
    "#  )\n",
    "#  ax.set_ylabel('price')\n",
    "#  return ax"
   ]
  },
  {
   "cell_type": "markdown",
   "id": "173a7a39",
   "metadata": {},
   "source": [
    "4. Mutual funds and exchange-traded funds (ETFs) are funds that are composed of many assets. They are built to mitigate risk, so volatility for the fund will be lower than that of the assets that compose it. (Information on how they differ can be found at https://www.investopedia.com/articles/exchangetradedfunds/08/etf-mutual-fund-difference.asp.) Compare a mutual fund or ETF of your choice to three of its largest stocks (by composition) using annualized volatility and the AssetGroupAnalyzer class."
   ]
  },
  {
   "cell_type": "code",
   "execution_count": null,
   "id": "a4825321",
   "metadata": {},
   "outputs": [],
   "source": [
    "# Exercise 4"
   ]
  },
  {
   "cell_type": "markdown",
   "id": "9c953b6b",
   "metadata": {},
   "source": [
    "5. Write a function that returns a dataframe of one row with columns for alpha, beta, sharpe_ratio, annualized_volatility, is_bear_market, and is_bull_market, which each contain the results of running the respective methods on a given stock using the StockAnalyzer class. Dictionary comprehensions and the getattr() function, as used in the AssetGroupAnalyzer.analyze() method, will be useful."
   ]
  },
  {
   "cell_type": "code",
   "execution_count": null,
   "id": "7a1ec1d8",
   "metadata": {},
   "outputs": [],
   "source": [
    "# Exercise 5"
   ]
  },
  {
   "cell_type": "markdown",
   "id": "000c6223",
   "metadata": {},
   "source": [
    "6. With the StockModeler class, build an ARIMA model fit on the S&P 500 data from January 1, 2019 through November 30, 2020 and use it to predict the performance in December 2020. Be sure to examine the residuals and compare the predicted performance to the actual performance"
   ]
  },
  {
   "cell_type": "code",
   "execution_count": null,
   "id": "7ee0f1e3",
   "metadata": {},
   "outputs": [],
   "source": [
    "# Exercise 6\n",
    "from pandas.plotting import autocorrelation_plot\n",
    "\n",
    "sp = reader.get_index_data('S&P 500')\n",
    "\n",
    "train, test = sp['2019':'2020-11'], sp.loc['2020-12']\n",
    "# We can use ARIMA to model the performance with autoregressive (AR), differences or lagged data (I), \n",
    "# and moving average (MA) terms. The autocorrelation plot can help find a good starting point for this:\n",
    "autocorrelation_plot(train.close)\n",
    "\n",
    "%%capture\n",
    "# this takes a long time to run, so we will start with a smaller AR of 10\n",
    "arima_model = StockModeler.arima(train, ar=10, i=1, ma=5)\n",
    "\n",
    "# AR = 10, I = 1, MA = 5\n",
    "print(arima_model.summary())\n",
    "\n",
    "StockModeler.plot_residuals(arima_model)"
   ]
  },
  {
   "cell_type": "markdown",
   "id": "e46c6017",
   "metadata": {},
   "source": [
    "7. Request an API key for AlphaVantage (https://www.alphavantage.co/support/#api-key) and collect the daily foreign exchange rate from USD to JPY using the get_forex_rates() method on the same StockReader object you created to collect the data for the previous exercises. Build a candlestick plot with the data from February 2019 through January 2020, resampled to 1-week intervals. Hint: take a look at the slice() function from the standard library (https://docs.python.org/3/library/functions.html#slice) in order to provide the date range"
   ]
  },
  {
   "cell_type": "code",
   "execution_count": 6,
   "id": "06f7080b",
   "metadata": {},
   "outputs": [
    {
     "data": {
      "image/png": "[encoded data removed]",
      "text/plain": [
       "<Figure size 800x575 with 2 Axes>"
      ]
     },
     "metadata": {},
     "output_type": "display_data"
    }
   ],
   "source": [
    "# Exercise 7\n",
    "\n",
    "# ~\\AppData\\Roaming\\Python\\Python39\\site-packages\\stock_analysis\\stock_reader.py\n",
    "# def get_forex_rates(self, from_currency, to_currency, **kwargs):\n",
    "#         \"\"\"\n",
    "#         Get daily foreign exchange rates from AlphaVantage.\n",
    "\n",
    "#         Note: This requires an API key, which can be obtained for free at\n",
    "#         https://www.alphavantage.co/support/#api-key. To use this method, you must either\n",
    "#         store it as an environment variable called `ALPHAVANTAGE_API_KEY` or pass it in to\n",
    "#         this method as `api_key`.\n",
    "\n",
    "#         Parameters:\n",
    "#             - from_currency: The currency you want the exchange rates for.\n",
    "#             - to_currency: The target currency.\n",
    "\n",
    "#         Returns:\n",
    "#             A `pandas.DataFrame` with daily exchange rates.\n",
    "#         \"\"\"\n",
    "#         data = web.DataReader(\n",
    "#             f'{from_currency}/{to_currency}', 'av-forex-daily',\n",
    "#             start=self.start, end=self.end, **kwargs\n",
    "#         ).rename(pd.to_datetime)\n",
    "#         data.index.rename('date', inplace=True)\n",
    "#         return data\n",
    "\n",
    "APY_KEY='REMOVED'\n",
    "forex = reader.get_forex_rates('USD', 'JPY', api_key=APY_KEY)\n",
    "stock_analysis.StockVisualizer(forex).candlestick(date_range=slice('2019-02-01', '2020-01-31'), \n",
    "                                                  xrotation=90,\n",
    "                                                  resample='1W')"
   ]
  },
  {
   "cell_type": "code",
   "execution_count": null,
   "id": "102d440e",
   "metadata": {},
   "outputs": [],
   "source": []
  }
 ],
 "metadata": {
  "kernelspec": {
   "display_name": "Python 3 (ipykernel)",
   "language": "python",
   "name": "python3"
  },
  "language_info": {
   "codemirror_mode": {
    "name": "ipython",
    "version": 3
   },
   "file_extension": ".py",
   "mimetype": "text/x-python",
   "name": "python",
   "nbconvert_exporter": "python",
   "pygments_lexer": "ipython3",
   "version": "3.8.17"
  }
 },
 "nbformat": 4,
 "nbformat_minor": 5
}
