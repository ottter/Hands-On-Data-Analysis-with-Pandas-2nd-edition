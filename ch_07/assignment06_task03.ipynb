{
 "cells": [
  {
   "cell_type": "markdown",
   "id": "c1390b86",
   "metadata": {},
   "source": [
    "Task III: Do the Exercises at the end of the Chapter 7. \n",
    "\n",
    "        a. All created ipynb files. \n",
    "        b. A docs/pdf file that includes detailed screenshots and description for each screenshot. "
   ]
  },
  {
   "cell_type": "code",
   "execution_count": null,
   "id": "fec87e85",
   "metadata": {},
   "outputs": [],
   "source": []
  }
 ],
 "metadata": {
  "kernelspec": {
   "display_name": "Python 3 (ipykernel)",
   "language": "python",
   "name": "python3"
  },
  "language_info": {
   "codemirror_mode": {
    "name": "ipython",
    "version": 3
   },
   "file_extension": ".py",
   "mimetype": "text/x-python",
   "name": "python",
   "nbconvert_exporter": "python",
   "pygments_lexer": "ipython3",
   "version": "3.8.17"
  }
 },
 "nbformat": 4,
 "nbformat_minor": 5
}
