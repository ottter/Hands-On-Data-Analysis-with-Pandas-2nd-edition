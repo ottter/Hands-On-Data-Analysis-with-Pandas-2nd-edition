{
 "cells": [
  {
   "cell_type": "code",
   "execution_count": 17,
   "id": "23909b30",
   "metadata": {},
   "outputs": [],
   "source": [
    "import pandas as pd\n",
    "import numpy as np\n",
    "\n",
    "df = pd.read_csv('./exercises/earthquakes.csv')"
   ]
  },
  {
   "cell_type": "code",
   "execution_count": 18,
   "id": "d5241c02",
   "metadata": {},
   "outputs": [
    {
     "name": "stdout",
     "output_type": "stream",
     "text": [
      "      mag magType           time                         place  tsunami  \\\n",
      "1563  4.9      mb  1538977532250  293km ESE of Iwo Jima, Japan        0   \n",
      "2576  5.4      mb  1538697528010    37km E of Tomakomai, Japan        0   \n",
      "3072  4.9      mb  1538579732490     15km ENE of Hasaki, Japan        0   \n",
      "3632  4.9      mb  1538450871260    53km ESE of Hitachi, Japan        0   \n",
      "\n",
      "     parsed_place  \n",
      "1563        Japan  \n",
      "2576        Japan  \n",
      "3072        Japan  \n",
      "3632        Japan  \n"
     ]
    }
   ],
   "source": [
    "filtered_df = df.query(\"parsed_place == 'Japan'and mag >= 4.9and magType == 'mb'\")\n",
    "\n",
    "print(filtered_df)"
   ]
  },
  {
   "cell_type": "code",
   "execution_count": 27,
   "id": "1b9a3973",
   "metadata": {},
   "outputs": [
    {
     "name": "stdout",
     "output_type": "stream",
     "text": [
      "mag_bin\n",
      "(0, 1]     2207\n",
      "(1, 2]     3105\n",
      "(2, 3]      862\n",
      "(3, 4]      122\n",
      "(4, 5]        2\n",
      "(5, 6]        1\n",
      "(6, 7]        0\n",
      "(7, 8]        0\n",
      "(8, 9]        0\n",
      "(9, 10]       0\n",
      "dtype: int64\n"
     ]
    }
   ],
   "source": [
    "count_by_bin = (df.query(\"magType == 'ml'\")\n",
    "                .assign(mag_bin=pd.cut(df['mag'], bins=range(0, 11), right=True))\n",
    "                .groupby('mag_bin')\n",
    "                .size())\n",
    "print(count_by_bin)"
   ]
  },
  {
   "cell_type": "code",
   "execution_count": 32,
   "id": "10a56093",
   "metadata": {},
   "outputs": [
    {
     "data": {
      "text/plain": [
       "ticker            object\n",
       "date      datetime64[ns]\n",
       "high             float64\n",
       "low              float64\n",
       "open             float64\n",
       "close            float64\n",
       "volume           float64\n",
       "dtype: object"
      ]
     },
     "execution_count": 32,
     "metadata": {},
     "output_type": "execute_result"
    }
   ],
   "source": [
    "faang = pd.read_csv('./exercises/faang.csv')\n",
    "faang['date'] = pd.to_datetime(faang['date'])\n",
    "faang.dtypes"
   ]
  },
  {
   "cell_type": "code",
   "execution_count": 37,
   "id": "21c4813c",
   "metadata": {},
   "outputs": [
    {
     "name": "stdout",
     "output_type": "stream",
     "text": [
      "                          open         high          low        close  \\\n",
      "ticker date                                                             \n",
      "AAPL   2018-01-31    43.505357    45.025002    41.174999    43.501309   \n",
      "       2018-02-28    41.819079    45.154999    37.560001    41.909737   \n",
      "       2018-03-31    43.761786    45.875000    41.235001    43.624048   \n",
      "       2018-04-30    42.441310    44.735001    40.157501    42.458572   \n",
      "       2018-05-31    46.239091    47.592499    41.317501    46.384205   \n",
      "       2018-06-30    47.180119    48.549999    45.182499    47.155357   \n",
      "       2018-07-31    47.549048    48.990002    45.855000    47.577857   \n",
      "       2018-08-31    53.121739    57.217499    49.327499    53.336522   \n",
      "       2018-09-30    55.582763    57.417500    53.825001    55.518421   \n",
      "       2018-10-31    55.300000    58.367500    51.522499    55.211413   \n",
      "       2018-11-30    47.954881    55.590000    42.564999    47.808929   \n",
      "       2018-12-31    41.310789    46.235001    36.647499    41.066579   \n",
      "AMZN   2018-01-31  1301.377151  1472.579956  1170.510010  1309.010946   \n",
      "       2018-02-28  1447.113159  1528.699951  1265.930054  1442.363146   \n",
      "       2018-03-31  1542.160464  1617.540039  1365.199951  1540.367629   \n",
      "       2018-04-30  1475.841902  1638.099976  1352.880005  1468.220471   \n",
      "       2018-05-31  1590.474543  1635.000000  1546.020020  1594.903637   \n",
      "       2018-06-30  1699.088582  1763.099976  1635.089966  1698.823812   \n",
      "       2018-07-31  1786.305716  1880.050049  1678.060059  1784.649042   \n",
      "       2018-08-31  1891.957833  2025.569946  1776.020020  1897.851308   \n",
      "       2018-09-30  1969.239476  2050.500000  1865.000000  1966.077900   \n",
      "       2018-10-31  1799.630865  2033.189941  1476.359985  1782.058265   \n",
      "       2018-11-30  1622.323806  1784.000000  1420.000000  1625.483823   \n",
      "       2018-12-31  1572.922100  1778.339966  1307.000000  1559.443154   \n",
      "FB     2018-01-31   184.584284   190.660004   175.800003   184.962856   \n",
      "       2018-02-28   180.721578   195.320007   167.179993   180.269473   \n",
      "       2018-03-31   173.449524   186.100006   149.020004   173.489522   \n",
      "       2018-04-30   164.163332   177.100006   150.509995   163.810476   \n",
      "       2018-05-31   181.910909   192.720001   170.229996   182.930000   \n",
      "       2018-06-30   194.974763   203.550003   186.429993   195.267620   \n",
      "       2018-07-31   199.332381   218.619995   166.559998   199.967142   \n",
      "       2018-08-31   177.598695   188.300003   170.270004   177.492172   \n",
      "       2018-09-30   164.233158   173.889999   158.869995   164.377368   \n",
      "       2018-10-31   154.873479   165.880005   139.029999   154.187826   \n",
      "       2018-11-30   141.762857   154.130005   126.849998   141.635715   \n",
      "       2018-12-31   137.529475   147.190002   123.019997   137.161052   \n",
      "GOOG   2018-01-31  1127.200945  1186.890015  1045.229980  1130.770467   \n",
      "       2018-02-28  1088.629472  1174.000000   992.559998  1088.206839   \n",
      "       2018-03-31  1096.108085  1177.050049   980.640015  1091.490479   \n",
      "       2018-04-30  1038.415237  1094.165039   990.369995  1035.696187   \n",
      "       2018-05-31  1064.021376  1110.750000  1006.289978  1069.275901   \n",
      "       2018-06-30  1136.396182  1186.286011  1096.010010  1137.626668   \n",
      "       2018-07-31  1183.464280  1273.890015  1093.800049  1187.590472   \n",
      "       2018-08-31  1226.156951  1256.500000  1188.239990  1225.671732   \n",
      "       2018-09-30  1176.878424  1212.989990  1146.910034  1175.808934   \n",
      "       2018-10-31  1116.082172  1209.959961   995.830017  1110.940411   \n",
      "       2018-11-30  1054.971424  1095.569946   996.020020  1056.162394   \n",
      "       2018-12-31  1042.619998  1124.650024   970.109985  1037.420519   \n",
      "NFLX   2018-01-31   231.269525   286.809998   195.419998   232.908096   \n",
      "       2018-02-28   270.873158   297.359985   236.110001   271.443683   \n",
      "       2018-03-31   312.712859   333.980011   275.899994   312.228097   \n",
      "       2018-04-30   309.129524   338.820007   271.220001   307.466192   \n",
      "       2018-05-31   329.779541   356.100006   305.730011   331.536819   \n",
      "       2018-06-30   384.557143   423.209991   352.820007   384.133336   \n",
      "       2018-07-31   380.969526   419.769989   328.000000   381.515238   \n",
      "       2018-08-31   345.410001   376.809998   310.929993   346.257824   \n",
      "       2018-09-30   363.326843   383.200012   335.829987   362.641576   \n",
      "       2018-10-31   340.025218   386.799988   271.209991   335.445652   \n",
      "       2018-11-30   290.643335   332.049988   250.000000   290.344764   \n",
      "       2018-12-31   266.309474   298.720001   231.229996   265.302630   \n",
      "\n",
      "                         volume  \n",
      "ticker date                      \n",
      "AAPL   2018-01-31  2.638718e+09  \n",
      "       2018-02-28  3.711577e+09  \n",
      "       2018-03-31  2.854911e+09  \n",
      "       2018-04-30  2.664617e+09  \n",
      "       2018-05-31  2.483905e+09  \n",
      "       2018-06-30  2.110498e+09  \n",
      "       2018-07-31  1.574766e+09  \n",
      "       2018-08-31  2.801276e+09  \n",
      "       2018-09-30  2.715888e+09  \n",
      "       2018-10-31  3.158994e+09  \n",
      "       2018-11-30  3.845306e+09  \n",
      "       2018-12-31  3.595690e+09  \n",
      "AMZN   2018-01-31  9.637120e+07  \n",
      "       2018-02-28  1.377840e+08  \n",
      "       2018-03-31  1.304001e+08  \n",
      "       2018-04-30  1.299196e+08  \n",
      "       2018-05-31  7.161550e+07  \n",
      "       2018-06-30  8.594130e+07  \n",
      "       2018-07-31  9.752110e+07  \n",
      "       2018-08-31  9.657580e+07  \n",
      "       2018-09-30  9.444550e+07  \n",
      "       2018-10-31  1.832208e+08  \n",
      "       2018-11-30  1.392900e+08  \n",
      "       2018-12-31  1.548127e+08  \n",
      "FB     2018-01-31  4.956557e+08  \n",
      "       2018-02-28  5.162516e+08  \n",
      "       2018-03-31  9.962017e+08  \n",
      "       2018-04-30  7.500727e+08  \n",
      "       2018-05-31  4.011441e+08  \n",
      "       2018-06-30  3.872656e+08  \n",
      "       2018-07-31  6.470307e+08  \n",
      "       2018-08-31  5.488327e+08  \n",
      "       2018-09-30  5.004688e+08  \n",
      "       2018-10-31  6.224463e+08  \n",
      "       2018-11-30  5.181517e+08  \n",
      "       2018-12-31  5.587862e+08  \n",
      "GOOG   2018-01-31  2.873840e+07  \n",
      "       2018-02-28  4.238200e+07  \n",
      "       2018-03-31  4.535330e+07  \n",
      "       2018-04-30  4.171590e+07  \n",
      "       2018-05-31  3.184940e+07  \n",
      "       2018-06-30  3.209600e+07  \n",
      "       2018-07-31  3.194010e+07  \n",
      "       2018-08-31  2.880840e+07  \n",
      "       2018-09-30  2.886240e+07  \n",
      "       2018-10-31  4.849470e+07  \n",
      "       2018-11-30  3.673510e+07  \n",
      "       2018-12-31  4.025760e+07  \n",
      "NFLX   2018-01-31  2.383776e+08  \n",
      "       2018-02-28  1.845858e+08  \n",
      "       2018-03-31  2.634494e+08  \n",
      "       2018-04-30  2.620060e+08  \n",
      "       2018-05-31  1.420508e+08  \n",
      "       2018-06-30  2.440318e+08  \n",
      "       2018-07-31  3.053938e+08  \n",
      "       2018-08-31  2.131223e+08  \n",
      "       2018-09-30  1.708321e+08  \n",
      "       2018-10-31  3.635898e+08  \n",
      "       2018-11-30  2.571264e+08  \n",
      "       2018-12-31  2.343100e+08  \n"
     ]
    }
   ],
   "source": [
    "faang.set_index('date', inplace=True)\n",
    "monthly_data = (faang.groupby('ticker').resample('M').agg({\n",
    "                    'open': np.mean,\n",
    "                    'high': np.max,\n",
    "                    'low': np.min,\n",
    "                    'close': np.mean,\n",
    "                    'volume': np.sum\n",
    "                }))\n",
    "\n",
    "print(monthly_data)"
   ]
  },
  {
   "cell_type": "code",
   "execution_count": 40,
   "id": "a0872143",
   "metadata": {},
   "outputs": [
    {
     "name": "stdout",
     "output_type": "stream",
     "text": [
      "magType   mb  mb_lg    md   mh   ml  ms_20    mw  mwb  mwr  mww\n",
      "tsunami                                                        \n",
      "0        5.6    3.5  4.11  1.1  4.2    NaN  3.83  5.8  4.8  6.0\n",
      "1        6.1    NaN   NaN  NaN  5.1    5.7  4.41  NaN  NaN  7.5\n"
     ]
    }
   ],
   "source": [
    "earthquakes = pd.read_csv('./exercises/earthquakes.csv')\n",
    "\n",
    "crosstab_result = pd.crosstab(\n",
    "    index=earthquakes['tsunami'],\n",
    "    columns=earthquakes['magType'],\n",
    "    values=earthquakes['mag'],\n",
    "    aggfunc=np.max \n",
    ")\n",
    "\n",
    "print(crosstab_result)"
   ]
  },
  {
   "cell_type": "code",
   "execution_count": 43,
   "id": "cef15318",
   "metadata": {},
   "outputs": [
    {
     "name": "stdout",
     "output_type": "stream",
     "text": [
      "                         open        high         low       close\n",
      "ticker date                                                      \n",
      "AAPL   2018-01-02   42.540001   43.075001   42.314999   43.064999\n",
      "       2018-01-03   42.836250   43.637501   42.314999   43.061249\n",
      "       2018-01-04   42.935833   43.637501   42.314999   43.126666\n",
      "       2018-01-05   43.041875   43.842499   42.314999   43.282499\n",
      "       2018-01-08   43.151000   43.902500   42.314999   43.343500\n",
      "...                       ...         ...         ...         ...\n",
      "NFLX   2018-12-24  283.509251  332.049988  233.679993  281.931750\n",
      "       2018-12-26  281.844501  332.049988  231.229996  280.777750\n",
      "       2018-12-27  281.070489  332.049988  231.229996  280.162927\n",
      "       2018-12-28  279.916342  332.049988  231.229996  279.461464\n",
      "       2018-12-31  278.430770  332.049988  231.229996  277.451539\n",
      "\n",
      "[1255 rows x 4 columns]\n"
     ]
    }
   ],
   "source": [
    "rolling60 = faang.groupby('ticker').apply(\n",
    "    lambda x: x.rolling(window='60D').agg({\n",
    "        'open': np.mean,\n",
    "        'high': np.max,\n",
    "        'low': np.min,\n",
    "        'close': np.mean\n",
    "    })\n",
    ")\n",
    "\n",
    "print(rolling60)"
   ]
  },
  {
   "cell_type": "code",
   "execution_count": 46,
   "id": "76e552fc",
   "metadata": {},
   "outputs": [
    {
     "name": "stdout",
     "output_type": "stream",
     "text": [
      "              close         high          low         open        volume\n",
      "ticker                                                                  \n",
      "AAPL      47.263357    47.748526    46.795877    47.277859  1.360803e+08\n",
      "AMZN    1641.726176  1662.839839  1619.840519  1644.072709  5.648994e+06\n",
      "FB       171.510956   173.613347   169.303148   171.472948  2.765860e+07\n",
      "GOOG    1113.225134  1125.777606  1101.001658  1113.554101  1.741965e+06\n",
      "NFLX     319.290319   325.219322   313.187330   319.620558  1.146962e+07\n"
     ]
    }
   ],
   "source": [
    "pivot_table = faang.pivot_table(index='ticker')\n",
    "\n",
    "print(pivot_table)"
   ]
  },
  {
   "cell_type": "code",
   "execution_count": 51,
   "id": "759e4767",
   "metadata": {},
   "outputs": [
    {
     "name": "stdout",
     "output_type": "stream",
     "text": [
      "                high       low      open     close    volume\n",
      "date                                                        \n",
      "2018-10-01  2.368006  2.502113  2.337813  2.385848 -1.630411\n",
      "2018-10-02  2.227302  2.247433  2.190795  2.155037 -0.861879\n",
      "2018-10-03  2.058955  2.139987  2.068570  2.025489 -0.920345\n",
      "2018-10-04  1.819474  1.781561  1.850048  1.722816 -0.126582\n",
      "2018-10-05  1.628173  1.554416  1.642819  1.584748 -0.298771\n",
      "...              ...       ...       ...       ...       ...\n",
      "2018-12-24 -2.159820 -2.187566 -2.179582 -2.226185 -0.141238\n",
      "2018-12-26 -1.611714 -1.810493 -2.026617 -1.339674  1.123063\n",
      "2018-12-27 -1.641276 -1.626703 -1.456521 -1.404343  0.849827\n",
      "2018-12-28 -1.325261 -1.231588 -1.328549 -1.289951  0.496102\n",
      "2018-12-31 -1.273456 -0.975763 -1.078283 -1.122691 -0.246405\n",
      "\n",
      "[63 rows x 5 columns]\n"
     ]
    }
   ],
   "source": [
    "amzn = faang.loc['2018-Q4'].query(\"ticker == 'AMZN'\")\n",
    "\n",
    "z_amzn = amzn.drop(columns='ticker').apply(\n",
    "    lambda x: (x - x.mean()) / x.std()\n",
    ")\n",
    "\n",
    "print(z_amzn)"
   ]
  },
  {
   "cell_type": "code",
   "execution_count": 65,
   "id": "79dfa5c8",
   "metadata": {},
   "outputs": [],
   "source": [
    "faang = pd.read_csv('./exercises/faang.csv')\n",
    "faang['date'] = pd.to_datetime(faang['date'])\n",
    "event_data = pd.DataFrame({\n",
    "    'ticker': 'FB',\n",
    "    'date': ['2018-07-25', '2018-03-19', '2018-03-20'],\n",
    "    'event': [\n",
    "        'Disappointing user growth announced after close.',\n",
    "        'Cambridge Analytica story',\n",
    "        'FTC investigation'\n",
    "    ]\n",
    "})"
   ]
  },
  {
   "cell_type": "code",
   "execution_count": 66,
   "id": "b50fc441",
   "metadata": {},
   "outputs": [
    {
     "name": "stdout",
     "output_type": "stream",
     "text": [
      "           date ticker         high          low         open        close  \\\n",
      "0    2018-01-02   AAPL    43.075001    42.314999    42.540001    43.064999   \n",
      "1    2018-01-02   AMZN  1190.000000  1170.510010  1172.000000  1189.010010   \n",
      "2    2018-01-02     FB   181.580002   177.550003   177.679993   181.419998   \n",
      "3    2018-01-02   NFLX   201.649994   195.419998   196.100006   201.070007   \n",
      "4    2018-01-03   AAPL    43.637501    42.990002    43.132500    43.057499   \n",
      "...         ...    ...          ...          ...          ...          ...   \n",
      "1253 2018-12-28   GOOG  1055.560059  1033.099976  1049.619995  1037.079956   \n",
      "1254 2018-12-31   GOOG  1052.699951  1023.590027  1050.959961  1035.609985   \n",
      "1255 2018-07-25     FB   218.619995   214.270004   215.720001   217.500000   \n",
      "1256 2018-03-19     FB   177.169998   170.059998   177.009995   172.559998   \n",
      "1257 2018-03-20     FB   170.199997   161.949997   167.470001   168.149994   \n",
      "\n",
      "           volume event  \n",
      "0     102223600.0   NaN  \n",
      "1       2694500.0   NaN  \n",
      "2      18151900.0   NaN  \n",
      "3      10966900.0   NaN  \n",
      "4     118071600.0   NaN  \n",
      "...           ...   ...  \n",
      "1253    1414800.0   NaN  \n",
      "1254    1493300.0   NaN  \n",
      "1255   58954200.0   NaN  \n",
      "1256   88140100.0   NaN  \n",
      "1257  129851800.0   NaN  \n",
      "\n",
      "[1258 rows x 8 columns]\n"
     ]
    },
    {
     "name": "stderr",
     "output_type": "stream",
     "text": [
      "C:\\Users\\James\\anaconda3\\lib\\site-packages\\pandas\\core\\indexes\\multi.py:3587: RuntimeWarning: The values in the array are unorderable. Pass `sort=False` to suppress this warning.\n",
      "  uniq_tuples = lib.fast_unique_multiple([self._values, other._values], sort=sort)\n"
     ]
    }
   ],
   "source": [
    "merged_data = pd.merge(\n",
    "    faang.set_index(['date', 'ticker']), \n",
    "    event_data.set_index(['date', 'ticker']), \n",
    "    left_index=True, \n",
    "    right_index=True, \n",
    "    how='outer', \n",
    "    sort=False\n",
    ").reset_index()\n",
    "\n",
    "print(merged_data)"
   ]
  },
  {
   "cell_type": "code",
   "execution_count": 68,
   "id": "c92b23a5",
   "metadata": {},
   "outputs": [
    {
     "name": "stdout",
     "output_type": "stream",
     "text": [
      "  ticker        date                                             event\n",
      "0     FB  2018-07-25  Disappointing user growth announced after close.\n",
      "1     FB  2018-03-19                         Cambridge Analytica story\n",
      "2     FB  2018-03-20                                 FTC investigation\n"
     ]
    }
   ],
   "source": [
    "print(event_data)"
   ]
  },
  {
   "cell_type": "code",
   "execution_count": 82,
   "id": "b3868d6b",
   "metadata": {},
   "outputs": [
    {
     "name": "stdout",
     "output_type": "stream",
     "text": [
      "          high       low      open     close    volume\n",
      "251   1.000000  1.000000  1.000000  1.000000  1.000000\n",
      "252   1.013059  1.015952  1.013928  0.999826  1.155033\n",
      "253   1.006790  1.016661  1.013987  1.004470  0.877864\n",
      "254   1.017818  1.022392  1.019276  1.015906  0.925814\n",
      "255   1.019211  1.027591  1.024624  1.012133  0.804816\n",
      "...        ...       ...       ...       ...       ...\n",
      "999   1.242995  1.195783  1.234064  1.163177  0.870583\n",
      "1000  1.262088  1.183246  1.192861  1.261600  1.313288\n",
      "1001  1.267493  1.228636  1.275421  1.271050  1.115648\n",
      "1002  1.298835  1.278272  1.315349  1.273586  1.002362\n",
      "1003  1.339450  1.330468  1.326670  1.331178  1.231788\n",
      "\n",
      "[1255 rows x 5 columns]\n"
     ]
    }
   ],
   "source": [
    "faang = pd.read_csv('./exercises/faang.csv')\n",
    "faang['date'] = pd.to_datetime(faang['date'])\n",
    "faang.sort_values(['ticker', 'date'], inplace=True)\n",
    "transform_faang = faang.groupby('ticker').transform(lambda x: x / x.iloc[0])\n",
    "print(transform_faang)"
   ]
  },
  {
   "cell_type": "code",
   "execution_count": 83,
   "id": "ad2c9208",
   "metadata": {},
   "outputs": [],
   "source": [
    "covid = pd.read_csv('./exercises/covid19_cases.csv')\n",
    "covid['date'] = pd.to_datetime(covid['dateRep'])\n",
    "covid.set_index('date', inplace=True)\n",
    "covid.replace({'United_States_of_America': 'USA', 'United_Kingdom': 'UK'}, inplace=True)\n",
    "covid.sort_index(inplace=True)"
   ]
  },
  {
   "cell_type": "code",
   "execution_count": 109,
   "id": "b4adaca5",
   "metadata": {},
   "outputs": [],
   "source": [
    "import pandas as pd\n",
    "\n",
    "covid = pd.read_csv('./exercises/covid19_cases.csv')\n",
    "covid['date'] = pd.to_datetime(covid['dateRep'])\n",
    "covid.set_index('date', inplace=True)\n",
    "covid.replace({'countriesAndTerritories': {'United_States_of_America': 'USA', 'United_Kingdom': 'UK'}}, inplace=True)\n",
    "covid.sort_index(inplace=True)"
   ]
  },
  {
   "cell_type": "code",
   "execution_count": 98,
   "id": "61edaf33",
   "metadata": {},
   "outputs": [
    {
     "data": {
      "text/plain": [
       "countriesAndTerritories\n",
       "Brazil   2020-07-30\n",
       "India    2020-09-17\n",
       "Peru     2020-08-17\n",
       "Russia   2020-07-18\n",
       "USA      2020-07-25\n",
       "Name: cases, dtype: datetime64[ns]"
      ]
     },
     "execution_count": 98,
     "metadata": {},
     "output_type": "execute_result"
    }
   ],
   "source": [
    "# Sum the cases by date and country\n",
    "grouped = covid.groupby('countriesAndTerritories').cases.sum().nlargest(5).index\n",
    "\n",
    "covid[covid.countriesAndTerritories.isin(grouped)].groupby('countriesAndTerritories').cases.idxmax()"
   ]
  },
  {
   "cell_type": "code",
   "execution_count": 120,
   "id": "1a11a9ce",
   "metadata": {},
   "outputs": [
    {
     "name": "stdout",
     "output_type": "stream",
     "text": [
      "countriesAndTerritories\n",
      "Brazil     6245.428571\n",
      "India     13938.571429\n",
      "Peru        -98.285714\n",
      "Russia      786.285714\n",
      "USA        6865.857143\n",
      "Name: cases, dtype: float64\n"
     ]
    }
   ],
   "source": [
    "# Calculate 7-day rolling mean of the daily case difference\n",
    "seven_day_avg = covid[covid['countriesAndTerritories'].isin(grouped)] \\\n",
    "    .groupby(['countriesAndTerritories', 'date']).cases.sum() \\\n",
    "    .groupby('countriesAndTerritories').apply(lambda x: x.diff().rolling(7).mean())\n",
    "\n",
    "# Get the last week's data\n",
    "last_week_seven_day_avg = seven_day_avg.groupby('countriesAndTerritories').last('1W')\n",
    "\n",
    "print(last_week_seven_day_avg)\n"
   ]
  },
  {
   "cell_type": "code",
   "execution_count": 122,
   "id": "07918be1",
   "metadata": {},
   "outputs": [
    {
     "data": {
      "text/plain": [
       "countriesAndTerritories\n",
       "Afghanistan      2020-05-16\n",
       "Albania          2020-08-25\n",
       "Algeria          2020-07-25\n",
       "Andorra          2020-09-15\n",
       "Angola           2020-06-08\n",
       "                    ...    \n",
       "Vietnam          2020-07-31\n",
       "Western_Sahara   2020-07-14\n",
       "Yemen            2020-06-16\n",
       "Zambia           2020-07-18\n",
       "Zimbabwe         2020-02-08\n",
       "Name: cases, Length: 209, dtype: datetime64[ns]"
      ]
     },
     "execution_count": 122,
     "metadata": {},
     "output_type": "execute_result"
    }
   ],
   "source": [
    "remove_china = covid[covid['countriesAndTerritories'] != 'China']\n",
    "remove_china.groupby('countriesAndTerritories')['cases'].idxmax()"
   ]
  },
  {
   "cell_type": "code",
   "execution_count": 125,
   "id": "e84f96e7",
   "metadata": {},
   "outputs": [
    {
     "data": {
      "text/plain": [
       "countriesAndTerritories\n",
       "USA                            1.000000\n",
       "India                          0.995238\n",
       "Brazil                         0.990476\n",
       "Russia                         0.985714\n",
       "Peru                           0.980952\n",
       "                                 ...   \n",
       "Greenland                      0.023810\n",
       "Montserrat                     0.016667\n",
       "Falkland_Islands_(Malvinas)    0.016667\n",
       "Holy_See                       0.009524\n",
       "Anguilla                       0.004762\n",
       "Name: cases, Length: 210, dtype: float64"
      ]
     },
     "execution_count": 125,
     "metadata": {},
     "output_type": "execute_result"
    }
   ],
   "source": [
    "cumulative_cases = covid.groupby('countriesAndTerritories')['cases'].sum()\n",
    "cumulative_cases.rank(pct=True).sort_values(ascending=False)\n"
   ]
  },
  {
   "cell_type": "code",
   "execution_count": null,
   "id": "79e6c556",
   "metadata": {},
   "outputs": [],
   "source": []
  }
 ],
 "metadata": {
  "kernelspec": {
   "display_name": "Python 3",
   "language": "python",
   "name": "python3"
  },
  "language_info": {
   "codemirror_mode": {
    "name": "ipython",
    "version": 3
   },
   "file_extension": ".py",
   "mimetype": "text/x-python",
   "name": "python",
   "nbconvert_exporter": "python",
   "pygments_lexer": "ipython3",
   "version": "3.8.8"
  }
 },
 "nbformat": 4,
 "nbformat_minor": 5
}
