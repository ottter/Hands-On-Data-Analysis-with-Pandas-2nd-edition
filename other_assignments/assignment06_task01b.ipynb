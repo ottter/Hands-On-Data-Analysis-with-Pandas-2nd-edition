{
 "cells": [
  {
   "cell_type": "markdown",
   "id": "706663cc",
   "metadata": {},
   "source": [
    "Python Inheritance\n",
    "https://www.w3schools.com/python/python_inheritance.asp \n",
    "\n",
    "a class can inherit methods from another class"
   ]
  },
  {
   "cell_type": "code",
   "execution_count": 11,
   "id": "9ebd746e",
   "metadata": {},
   "outputs": [
    {
     "name": "stdout",
     "output_type": "stream",
     "text": [
      "John Doe\n"
     ]
    }
   ],
   "source": [
    "class Person:\n",
    "    def __init__(self, fname, lname):\n",
    "        self.firstname = fname\n",
    "        self.lastname = lname\n",
    "\n",
    "    def printname(self):\n",
    "        print(self.firstname, self.lastname)\n",
    "\n",
    "#Use the Person class to create an object, and then execute the printname method:\n",
    "\n",
    "x = Person(\"John\", \"Doe\")\n",
    "x.printname()"
   ]
  },
  {
   "cell_type": "markdown",
   "id": "e54d1aff",
   "metadata": {},
   "source": [
    "'Person' acts as the parent class and 'Student' is the child class.\n",
    "\n",
    "Student(Person) is telling the Student class to inherit all the methods and properties of the Person class"
   ]
  },
  {
   "cell_type": "code",
   "execution_count": 12,
   "id": "cd66fe17",
   "metadata": {},
   "outputs": [],
   "source": [
    "class Student(Person):\n",
    "      pass"
   ]
  },
  {
   "cell_type": "code",
   "execution_count": 13,
   "id": "54a99790",
   "metadata": {},
   "outputs": [
    {
     "name": "stdout",
     "output_type": "stream",
     "text": [
      "Mike Olsen\n"
     ]
    }
   ],
   "source": [
    "x = Student(\"Mike\", \"Olsen\")\n",
    "x.printname()"
   ]
  },
  {
   "cell_type": "code",
   "execution_count": 14,
   "id": "65f60bb7",
   "metadata": {},
   "outputs": [
    {
     "ename": "SyntaxError",
     "evalue": "unexpected EOF while parsing (2681414592.py, line 3)",
     "output_type": "error",
     "traceback": [
      "\u001b[1;36m  Cell \u001b[1;32mIn[14], line 3\u001b[1;36m\u001b[0m\n\u001b[1;33m    #add properties etc.\u001b[0m\n\u001b[1;37m                        ^\u001b[0m\n\u001b[1;31mSyntaxError\u001b[0m\u001b[1;31m:\u001b[0m unexpected EOF while parsing\n"
     ]
    }
   ],
   "source": [
    "class Student(Person):\n",
    "    def __init__(self, fname, lname):\n",
    "    #add properties etc."
   ]
  },
  {
   "cell_type": "markdown",
   "id": "f081464b",
   "metadata": {},
   "source": [
    "Running the above ends in an error because it is expecting items to be there.\n",
    "\n",
    "Since it is no longer being passed, it expects more contents\n",
    "\n",
    "Because __init__ is being defined in the Student/Child class, it overrides the inherited __init__ function properties from the Person/Parent class."
   ]
  },
  {
   "cell_type": "code",
   "execution_count": 15,
   "id": "56779406",
   "metadata": {},
   "outputs": [],
   "source": [
    "class Student(Person):\n",
    "    def __init__(self, fname, lname):\n",
    "        # using the super() function lets the class also inherit all methods and properties from the parent\n",
    "        super().__init__(fname, lname)\n",
    "        # properties can be still be inherited from the parent while adding new properties. example:\n",
    "        self.graduationyear = 2019\n",
    "        # but this property is hardcoding 2019 into the class, which is not useful for the class purpose"
   ]
  },
  {
   "cell_type": "code",
   "execution_count": 16,
   "id": "f2ab34cb",
   "metadata": {},
   "outputs": [],
   "source": [
    "class Student(Person):\n",
    "    # to add the property the proper way, first 'year' attribute has to be added within __init__\n",
    "    def __init__(self, fname, lname, year):\n",
    "        # we still want to inherit the other properties from the parent class\n",
    "        super().__init__(fname, lname)\n",
    "        # instead of hardcode 2019, pass in a variable\n",
    "        self.graduationyear = year\n",
    "    \n",
    "    # add a method to display the new property\n",
    "    def printname(self):\n",
    "        print(self.firstname, self.lastname, self.graduationyear)\n",
    "\n",
    "# now when the class gets called, adding in a year will display that in the print output\n",
    "x = Student(\"Mike\", \"Olsen\", 2019)"
   ]
  },
  {
   "cell_type": "code",
   "execution_count": 17,
   "id": "f9bb9952",
   "metadata": {},
   "outputs": [
    {
     "name": "stdout",
     "output_type": "stream",
     "text": [
      "Mike Olsen 2019\n"
     ]
    }
   ],
   "source": [
    "x.printname()"
   ]
  },
  {
   "cell_type": "code",
   "execution_count": 18,
   "id": "5936125f",
   "metadata": {},
   "outputs": [],
   "source": [
    "class Student(Person):\n",
    "    def __init__(self, fname, lname, year):\n",
    "        super().__init__(fname, lname)\n",
    "        self.graduationyear = year\n",
    "\n",
    "    def welcome(self):\n",
    "        print(\"Welcome\", self.firstname, self.lastname, \"to the class of\", self.graduationyear)"
   ]
  },
  {
   "cell_type": "code",
   "execution_count": 19,
   "id": "8633b861",
   "metadata": {
    "scrolled": true
   },
   "outputs": [
    {
     "name": "stdout",
     "output_type": "stream",
     "text": [
      "Welcome Mike Olsen to the class of 2019\n"
     ]
    }
   ],
   "source": [
    "x = Student(\"Mike\", \"Olsen\", 2019)\n",
    "x.welcome()"
   ]
  }
 ],
 "metadata": {
  "kernelspec": {
   "display_name": "Python 3 (ipykernel)",
   "language": "python",
   "name": "python3"
  },
  "language_info": {
   "codemirror_mode": {
    "name": "ipython",
    "version": 3
   },
   "file_extension": ".py",
   "mimetype": "text/x-python",
   "name": "python",
   "nbconvert_exporter": "python",
   "pygments_lexer": "ipython3",
   "version": "3.8.17"
  }
 },
 "nbformat": 4,
 "nbformat_minor": 5
}
