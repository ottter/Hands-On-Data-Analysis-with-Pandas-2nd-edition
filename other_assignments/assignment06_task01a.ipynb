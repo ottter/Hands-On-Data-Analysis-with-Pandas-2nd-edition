{
 "cells": [
  {
   "cell_type": "markdown",
   "id": "900679d3",
   "metadata": {},
   "source": [
    "Python Classes\n",
    "\n",
    "https://www.w3schools.com/python/python_classes.asp"
   ]
  },
  {
   "cell_type": "code",
   "execution_count": 1,
   "id": "76d00efb",
   "metadata": {},
   "outputs": [],
   "source": [
    "# Create the class\n",
    "class MyClass:\n",
    "  x = 5"
   ]
  },
  {
   "cell_type": "code",
   "execution_count": 2,
   "id": "51f48d3c",
   "metadata": {},
   "outputs": [],
   "source": [
    "# Create the object\n",
    "p1 = MyClass()"
   ]
  },
  {
   "cell_type": "markdown",
   "id": "773d272a",
   "metadata": {},
   "source": [
    "__init__() functions are created automatically when the class is created. \n",
    "It is always called when the class is initialized."
   ]
  },
  {
   "cell_type": "code",
   "execution_count": 3,
   "id": "0155c81a",
   "metadata": {
    "scrolled": true
   },
   "outputs": [
    {
     "name": "stdout",
     "output_type": "stream",
     "text": [
      "John\n",
      "36\n"
     ]
    }
   ],
   "source": [
    "# Example __init__ function \n",
    "class Person:\n",
    "  def __init__(self, name, age):\n",
    "    self.name = name\n",
    "    self.age = age\n",
    "\n",
    "p1 = Person(\"John\", 36)\n",
    "\n",
    "print(p1.name)\n",
    "print(p1.age)"
   ]
  },
  {
   "cell_type": "markdown",
   "id": "37d518c4",
   "metadata": {},
   "source": [
    "__str__() function says what should be returned when the class is called\n",
    "\n",
    "WITHOUT __str__ , the below returns this:\n",
    "    `<__main__.Person object at 0x0000023B8573B430>`\n",
    "WITH it, it returns this: \n",
    "    `John(36)`"
   ]
  },
  {
   "cell_type": "code",
   "execution_count": 5,
   "id": "de4e6a33",
   "metadata": {},
   "outputs": [
    {
     "name": "stdout",
     "output_type": "stream",
     "text": [
      "John(36)\n"
     ]
    }
   ],
   "source": [
    "class Person:\n",
    "  def __init__(self, name, age):\n",
    "    self.name = name\n",
    "    self.age = age\n",
    "\n",
    "  def __str__(self):\n",
    "    return f\"{self.name}({self.age})\"\n",
    "\n",
    "p1 = Person(\"John\", 36)\n",
    "\n",
    "print(p1)"
   ]
  },
  {
   "cell_type": "markdown",
   "id": "7f9a0747",
   "metadata": {},
   "source": [
    "Object Methods are functions that belong to the object. \n",
    "They are defined in the class "
   ]
  },
  {
   "cell_type": "code",
   "execution_count": 6,
   "id": "66d581f1",
   "metadata": {
    "scrolled": true
   },
   "outputs": [
    {
     "name": "stdout",
     "output_type": "stream",
     "text": [
      "Hello my name is John\n"
     ]
    }
   ],
   "source": [
    "class Person:\n",
    "  def __init__(self, name, age):\n",
    "    self.name = name\n",
    "    self.age = age\n",
    "    \n",
    "    # self refers to current class and refers to vars in that class\n",
    "\n",
    "  def myfunc(self):\n",
    "    print(\"Hello my name is \" + self.name)\n",
    "\n",
    "p1 = Person(\"John\", 36)\n",
    "p1.myfunc()"
   ]
  },
  {
   "cell_type": "markdown",
   "id": "3fbea412",
   "metadata": {},
   "source": [
    "self refers to the current clas and the vars inside that class.\n",
    "It is the first var listed in the functions within a class"
   ]
  },
  {
   "cell_type": "code",
   "execution_count": 7,
   "id": "0c234624",
   "metadata": {},
   "outputs": [
    {
     "name": "stdout",
     "output_type": "stream",
     "text": [
      "Hello my name is John\n"
     ]
    }
   ],
   "source": [
    "class Person:\n",
    "  def __init__(mysillyobject, name, age):\n",
    "    mysillyobject.name = name\n",
    "    mysillyobject.age = age\n",
    "\n",
    "  def myfunc(abc):\n",
    "    print(\"Hello my name is \" + abc.name)\n",
    "\n",
    "p1 = Person(\"John\", 36)\n",
    "p1.myfunc()"
   ]
  },
  {
   "cell_type": "code",
   "execution_count": 8,
   "id": "c621a849",
   "metadata": {},
   "outputs": [],
   "source": [
    "# items in the class can be modified or deleted\n",
    "\n",
    "# change the age to 40\n",
    "p1.age = 40\n",
    "\n",
    "# delete the age of p1\n",
    "del p1.age\n",
    "\n",
    "# delete entire p1 object\n",
    "del p1"
   ]
  },
  {
   "cell_type": "code",
   "execution_count": 9,
   "id": "1da11f37",
   "metadata": {},
   "outputs": [],
   "source": [
    "# How to have an empty class\n",
    "class Person:\n",
    "  pass"
   ]
  },
  {
   "cell_type": "code",
   "execution_count": null,
   "id": "5d6807f5",
   "metadata": {},
   "outputs": [],
   "source": []
  }
 ],
 "metadata": {
  "kernelspec": {
   "display_name": "Python 3 (ipykernel)",
   "language": "python",
   "name": "python3"
  },
  "language_info": {
   "codemirror_mode": {
    "name": "ipython",
    "version": 3
   },
   "file_extension": ".py",
   "mimetype": "text/x-python",
   "name": "python",
   "nbconvert_exporter": "python",
   "pygments_lexer": "ipython3",
   "version": "3.8.17"
  }
 },
 "nbformat": 4,
 "nbformat_minor": 5
}
