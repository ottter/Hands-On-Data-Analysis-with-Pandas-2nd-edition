{
 "cells": [
  {
   "cell_type": "code",
   "execution_count": 1,
   "id": "67d95c48",
   "metadata": {},
   "outputs": [],
   "source": [
    "import pandas as pd\n",
    "\n",
    "df = pd.read_csv(\n",
    "    'data/earthquakes.csv', \n",
    "    usecols=['time', 'title', 'place', 'magType', 'mag', 'alert', 'tsunami']\n",
    ")"
   ]
  },
  {
   "cell_type": "code",
   "execution_count": 2,
   "id": "3998c3a2",
   "metadata": {},
   "outputs": [
    {
     "data": {
      "text/plain": [
       "array(['Afghanistan', 'Alaska', 'Argentina', 'Arizona', 'Arkansas',\n",
       "       'Australia', 'Azerbaijan', 'B.C., MX', 'Barbuda', 'Bolivia',\n",
       "       'Bonaire, Saint Eustatius and Saba ', 'British Virgin Islands',\n",
       "       'Burma', 'CA', 'California', 'Canada', 'Chile', 'China',\n",
       "       'Christmas Island', 'Colombia', 'Colorado', 'Costa Rica',\n",
       "       'Dominican Republic', 'East Timor', 'Ecuador', 'Ecuador region',\n",
       "       'El Salvador', 'Fiji', 'Greece', 'Greenland', 'Guam', 'Guatemala',\n",
       "       'Haiti', 'Hawaii', 'Honduras', 'Idaho', 'Illinois', 'India',\n",
       "       'Indonesia', 'Iran', 'Iraq', 'Italy', 'Jamaica', 'Japan', 'Kansas',\n",
       "       'Kentucky', 'Kyrgyzstan', 'Martinique', 'Mauritius', 'Mayotte',\n",
       "       'Mexico', 'Missouri', 'Montana', 'NV', 'Nevada', 'New Caledonia',\n",
       "       'New Hampshire', 'New Mexico', 'New Zealand', 'Nicaragua',\n",
       "       'North Carolina', 'Northern Mariana Islands', 'Oklahoma', 'Oregon',\n",
       "       'Pakistan', 'Papua New Guinea', 'Peru', 'Philippines',\n",
       "       'Puerto Rico', 'Romania', 'Russia', 'Saint Helena',\n",
       "       'Solomon Islands', 'Somalia', 'South Africa', 'South Carolina',\n",
       "       'South Georgia and the South Sandwich Islands',\n",
       "       'South Sandwich Islands', 'Taiwan', 'Tajikistan', 'Tennessee',\n",
       "       'Texas', 'Tonga', 'Turkey', 'U.S. Virgin Islands', 'Utah',\n",
       "       'Uzbekistan', 'Vanuatu', 'Vermont', 'Washington', 'Wyoming',\n",
       "       'Yemen', nan], dtype=object)"
      ]
     },
     "execution_count": 2,
     "metadata": {},
     "output_type": "execute_result"
    }
   ],
   "source": [
    "df.place.str.extract(r', (.*$)')[0].sort_values().unique()"
   ]
  },
  {
   "cell_type": "code",
   "execution_count": 4,
   "id": "71fd4905",
   "metadata": {},
   "outputs": [],
   "source": [
    "df['parsed_place'] = df.place.str.replace(\n",
    "    r'.* of ', '', regex=True # remove anything saying <something> of <something>\n",
    ").str.replace(\n",
    "    'the ', '' # remove \"the \"\n",
    ").str.replace(\n",
    "    r'CA$', 'California', regex=True # fix California\n",
    ").str.replace(\n",
    "    r'NV$', 'Nevada', regex=True # fix Nevada\n",
    ").str.replace(\n",
    "    r'MX$', 'Mexico', regex=True # fix Mexico\n",
    ").str.replace(\n",
    "    r' region$', '', regex=True # chop off endings with \" region\"\n",
    ").str.replace(\n",
    "    'northern ', '' # remove \"northern \"\n",
    ").str.replace(\n",
    "    'Fiji Islands', 'Fiji' # line up the Fiji places\n",
    ").str.replace(\n",
    "    r'^.*, ', '', regex=True # remove anything else extraneous from the beginning\n",
    ").str.strip() # remove any extra spaces"
   ]
  },
  {
   "cell_type": "code",
   "execution_count": 7,
   "id": "1a5bf68a",
   "metadata": {},
   "outputs": [
    {
     "data": {
      "text/html": [
       "<div>\n",
       "<style scoped>\n",
       "    .dataframe tbody tr th:only-of-type {\n",
       "        vertical-align: middle;\n",
       "    }\n",
       "\n",
       "    .dataframe tbody tr th {\n",
       "        vertical-align: top;\n",
       "    }\n",
       "\n",
       "    .dataframe thead th {\n",
       "        text-align: right;\n",
       "    }\n",
       "</style>\n",
       "<table border=\"1\" class=\"dataframe\">\n",
       "  <thead>\n",
       "    <tr style=\"text-align: right;\">\n",
       "      <th></th>\n",
       "      <th>alert</th>\n",
       "      <th>mag</th>\n",
       "      <th>magType</th>\n",
       "      <th>place</th>\n",
       "      <th>time</th>\n",
       "      <th>title</th>\n",
       "      <th>tsunami</th>\n",
       "    </tr>\n",
       "    <tr>\n",
       "      <th>parsed_place</th>\n",
       "      <th></th>\n",
       "      <th></th>\n",
       "      <th></th>\n",
       "      <th></th>\n",
       "      <th></th>\n",
       "      <th></th>\n",
       "      <th></th>\n",
       "    </tr>\n",
       "  </thead>\n",
       "  <tbody>\n",
       "    <tr>\n",
       "      <th>Japan</th>\n",
       "      <td>NaN</td>\n",
       "      <td>4.6</td>\n",
       "      <td>mb</td>\n",
       "      <td>160km NNW of Nago, Japan</td>\n",
       "      <td>1539448501800</td>\n",
       "      <td>M 4.6 - 160km NNW of Nago, Japan</td>\n",
       "      <td>0</td>\n",
       "    </tr>\n",
       "    <tr>\n",
       "      <th>Japan</th>\n",
       "      <td>NaN</td>\n",
       "      <td>5.2</td>\n",
       "      <td>mww</td>\n",
       "      <td>7km ESE of Asahi, Japan</td>\n",
       "      <td>1539317747370</td>\n",
       "      <td>M 5.2 - 7km ESE of Asahi, Japan</td>\n",
       "      <td>0</td>\n",
       "    </tr>\n",
       "    <tr>\n",
       "      <th>Japan</th>\n",
       "      <td>NaN</td>\n",
       "      <td>4.5</td>\n",
       "      <td>mwr</td>\n",
       "      <td>14km E of Tomakomai, Japan</td>\n",
       "      <td>1539303265990</td>\n",
       "      <td>M 4.5 - 14km E of Tomakomai, Japan</td>\n",
       "      <td>0</td>\n",
       "    </tr>\n",
       "    <tr>\n",
       "      <th>Japan</th>\n",
       "      <td>NaN</td>\n",
       "      <td>4.7</td>\n",
       "      <td>mb</td>\n",
       "      <td>139km WSW of Naze, Japan</td>\n",
       "      <td>1539238726290</td>\n",
       "      <td>M 4.7 - 139km WSW of Naze, Japan</td>\n",
       "      <td>0</td>\n",
       "    </tr>\n",
       "    <tr>\n",
       "      <th>Japan</th>\n",
       "      <td>NaN</td>\n",
       "      <td>4.6</td>\n",
       "      <td>mb</td>\n",
       "      <td>53km ESE of Kamaishi, Japan</td>\n",
       "      <td>1539115120470</td>\n",
       "      <td>M 4.6 - 53km ESE of Kamaishi, Japan</td>\n",
       "      <td>0</td>\n",
       "    </tr>\n",
       "  </tbody>\n",
       "</table>\n",
       "</div>"
      ],
      "text/plain": [
       "             alert  mag magType                        place           time  \\\n",
       "parsed_place                                                                  \n",
       "Japan          NaN  4.6      mb     160km NNW of Nago, Japan  1539448501800   \n",
       "Japan          NaN  5.2     mww      7km ESE of Asahi, Japan  1539317747370   \n",
       "Japan          NaN  4.5     mwr   14km E of Tomakomai, Japan  1539303265990   \n",
       "Japan          NaN  4.7      mb     139km WSW of Naze, Japan  1539238726290   \n",
       "Japan          NaN  4.6      mb  53km ESE of Kamaishi, Japan  1539115120470   \n",
       "\n",
       "                                            title  tsunami  \n",
       "parsed_place                                                \n",
       "Japan            M 4.6 - 160km NNW of Nago, Japan        0  \n",
       "Japan             M 5.2 - 7km ESE of Asahi, Japan        0  \n",
       "Japan          M 4.5 - 14km E of Tomakomai, Japan        0  \n",
       "Japan            M 4.7 - 139km WSW of Naze, Japan        0  \n",
       "Japan         M 4.6 - 53km ESE of Kamaishi, Japan        0  "
      ]
     },
     "execution_count": 7,
     "metadata": {},
     "output_type": "execute_result"
    }
   ],
   "source": [
    "df.set_index('parsed_place').filter(like='Japan', axis=0).head()"
   ]
  },
  {
   "cell_type": "code",
   "execution_count": 22,
   "id": "aef02ae8",
   "metadata": {},
   "outputs": [
    {
     "data": {
      "text/plain": [
       "4.9"
      ]
     },
     "execution_count": 22,
     "metadata": {},
     "output_type": "execute_result"
    }
   ],
   "source": [
    "df[(df.parsed_place == 'Japan') \n",
    "   & (df.magType =='mb')].mag.quantile(0.95)"
   ]
  },
  {
   "cell_type": "code",
   "execution_count": 85,
   "id": "17b773c3",
   "metadata": {},
   "outputs": [
    {
     "data": {
      "text/plain": [
       "'23.13%'"
      ]
     },
     "execution_count": 85,
     "metadata": {},
     "output_type": "execute_result"
    }
   ],
   "source": [
    "per = (df[(df['parsed_place'] == 'Indonesia') \n",
    "    & (df['tsunami'] == True)].shape[0] \n",
    " / df[df['parsed_place'] == 'Indonesia'].shape[0])\n",
    "f\"{per:.2%}\""
   ]
  },
  {
   "cell_type": "code",
   "execution_count": 89,
   "id": "ea4415a2",
   "metadata": {},
   "outputs": [
    {
     "data": {
      "text/html": [
       "<div>\n",
       "<style scoped>\n",
       "    .dataframe tbody tr th:only-of-type {\n",
       "        vertical-align: middle;\n",
       "    }\n",
       "\n",
       "    .dataframe tbody tr th {\n",
       "        vertical-align: top;\n",
       "    }\n",
       "\n",
       "    .dataframe thead th {\n",
       "        text-align: right;\n",
       "    }\n",
       "</style>\n",
       "<table border=\"1\" class=\"dataframe\">\n",
       "  <thead>\n",
       "    <tr style=\"text-align: right;\">\n",
       "      <th></th>\n",
       "      <th>alert</th>\n",
       "      <th>mag</th>\n",
       "      <th>magType</th>\n",
       "      <th>place</th>\n",
       "      <th>time</th>\n",
       "      <th>title</th>\n",
       "      <th>tsunami</th>\n",
       "      <th>parsed_place</th>\n",
       "      <th>ring_of_fire</th>\n",
       "    </tr>\n",
       "  </thead>\n",
       "  <tbody>\n",
       "    <tr>\n",
       "      <th>count</th>\n",
       "      <td>0</td>\n",
       "      <td>681.000000</td>\n",
       "      <td>681</td>\n",
       "      <td>681</td>\n",
       "      <td>6.810000e+02</td>\n",
       "      <td>681</td>\n",
       "      <td>681.0</td>\n",
       "      <td>681</td>\n",
       "      <td>681</td>\n",
       "    </tr>\n",
       "    <tr>\n",
       "      <th>unique</th>\n",
       "      <td>0</td>\n",
       "      <td>NaN</td>\n",
       "      <td>2</td>\n",
       "      <td>419</td>\n",
       "      <td>NaN</td>\n",
       "      <td>630</td>\n",
       "      <td>NaN</td>\n",
       "      <td>1</td>\n",
       "      <td>1</td>\n",
       "    </tr>\n",
       "    <tr>\n",
       "      <th>top</th>\n",
       "      <td>NaN</td>\n",
       "      <td>NaN</td>\n",
       "      <td>ml</td>\n",
       "      <td>55km ENE of Beatty, Nevada</td>\n",
       "      <td>NaN</td>\n",
       "      <td>M -0.3 - 55km ENE of Beatty, Nevada</td>\n",
       "      <td>NaN</td>\n",
       "      <td>Nevada</td>\n",
       "      <td>False</td>\n",
       "    </tr>\n",
       "    <tr>\n",
       "      <th>freq</th>\n",
       "      <td>NaN</td>\n",
       "      <td>NaN</td>\n",
       "      <td>680</td>\n",
       "      <td>14</td>\n",
       "      <td>NaN</td>\n",
       "      <td>4</td>\n",
       "      <td>NaN</td>\n",
       "      <td>681</td>\n",
       "      <td>681</td>\n",
       "    </tr>\n",
       "    <tr>\n",
       "      <th>mean</th>\n",
       "      <td>NaN</td>\n",
       "      <td>0.500073</td>\n",
       "      <td>NaN</td>\n",
       "      <td>NaN</td>\n",
       "      <td>1.538314e+12</td>\n",
       "      <td>NaN</td>\n",
       "      <td>0.0</td>\n",
       "      <td>NaN</td>\n",
       "      <td>NaN</td>\n",
       "    </tr>\n",
       "    <tr>\n",
       "      <th>std</th>\n",
       "      <td>NaN</td>\n",
       "      <td>0.696710</td>\n",
       "      <td>NaN</td>\n",
       "      <td>NaN</td>\n",
       "      <td>5.965637e+08</td>\n",
       "      <td>NaN</td>\n",
       "      <td>0.0</td>\n",
       "      <td>NaN</td>\n",
       "      <td>NaN</td>\n",
       "    </tr>\n",
       "    <tr>\n",
       "      <th>min</th>\n",
       "      <td>NaN</td>\n",
       "      <td>-0.500000</td>\n",
       "      <td>NaN</td>\n",
       "      <td>NaN</td>\n",
       "      <td>1.537247e+12</td>\n",
       "      <td>NaN</td>\n",
       "      <td>0.0</td>\n",
       "      <td>NaN</td>\n",
       "      <td>NaN</td>\n",
       "    </tr>\n",
       "    <tr>\n",
       "      <th>25%</th>\n",
       "      <td>NaN</td>\n",
       "      <td>-0.100000</td>\n",
       "      <td>NaN</td>\n",
       "      <td>NaN</td>\n",
       "      <td>1.537854e+12</td>\n",
       "      <td>NaN</td>\n",
       "      <td>0.0</td>\n",
       "      <td>NaN</td>\n",
       "      <td>NaN</td>\n",
       "    </tr>\n",
       "    <tr>\n",
       "      <th>50%</th>\n",
       "      <td>NaN</td>\n",
       "      <td>0.400000</td>\n",
       "      <td>NaN</td>\n",
       "      <td>NaN</td>\n",
       "      <td>1.538280e+12</td>\n",
       "      <td>NaN</td>\n",
       "      <td>0.0</td>\n",
       "      <td>NaN</td>\n",
       "      <td>NaN</td>\n",
       "    </tr>\n",
       "    <tr>\n",
       "      <th>75%</th>\n",
       "      <td>NaN</td>\n",
       "      <td>0.900000</td>\n",
       "      <td>NaN</td>\n",
       "      <td>NaN</td>\n",
       "      <td>1.538821e+12</td>\n",
       "      <td>NaN</td>\n",
       "      <td>0.0</td>\n",
       "      <td>NaN</td>\n",
       "      <td>NaN</td>\n",
       "    </tr>\n",
       "    <tr>\n",
       "      <th>max</th>\n",
       "      <td>NaN</td>\n",
       "      <td>2.900000</td>\n",
       "      <td>NaN</td>\n",
       "      <td>NaN</td>\n",
       "      <td>1.539461e+12</td>\n",
       "      <td>NaN</td>\n",
       "      <td>0.0</td>\n",
       "      <td>NaN</td>\n",
       "      <td>NaN</td>\n",
       "    </tr>\n",
       "  </tbody>\n",
       "</table>\n",
       "</div>"
      ],
      "text/plain": [
       "       alert         mag magType                       place          time  \\\n",
       "count      0  681.000000     681                         681  6.810000e+02   \n",
       "unique     0         NaN       2                         419           NaN   \n",
       "top      NaN         NaN      ml  55km ENE of Beatty, Nevada           NaN   \n",
       "freq     NaN         NaN     680                          14           NaN   \n",
       "mean     NaN    0.500073     NaN                         NaN  1.538314e+12   \n",
       "std      NaN    0.696710     NaN                         NaN  5.965637e+08   \n",
       "min      NaN   -0.500000     NaN                         NaN  1.537247e+12   \n",
       "25%      NaN   -0.100000     NaN                         NaN  1.537854e+12   \n",
       "50%      NaN    0.400000     NaN                         NaN  1.538280e+12   \n",
       "75%      NaN    0.900000     NaN                         NaN  1.538821e+12   \n",
       "max      NaN    2.900000     NaN                         NaN  1.539461e+12   \n",
       "\n",
       "                                      title  tsunami parsed_place ring_of_fire  \n",
       "count                                   681    681.0          681          681  \n",
       "unique                                  630      NaN            1            1  \n",
       "top     M -0.3 - 55km ENE of Beatty, Nevada      NaN       Nevada        False  \n",
       "freq                                      4      NaN          681          681  \n",
       "mean                                    NaN      0.0          NaN          NaN  \n",
       "std                                     NaN      0.0          NaN          NaN  \n",
       "min                                     NaN      0.0          NaN          NaN  \n",
       "25%                                     NaN      0.0          NaN          NaN  \n",
       "50%                                     NaN      0.0          NaN          NaN  \n",
       "75%                                     NaN      0.0          NaN          NaN  \n",
       "max                                     NaN      0.0          NaN          NaN  "
      ]
     },
     "execution_count": 89,
     "metadata": {},
     "output_type": "execute_result"
    }
   ],
   "source": [
    "df[df.parsed_place == 'Nevada'].describe(include='all')"
   ]
  },
  {
   "cell_type": "code",
   "execution_count": 77,
   "id": "39282dce",
   "metadata": {},
   "outputs": [],
   "source": [
    "ring_of_fire =  ['Alaska', 'Antarctic', 'Bolivia', 'California', 'Canada', 'Chile', 'Costa Rica', \n",
    "          'Ecuador', 'Fiji', 'Guatemala', 'Indonesia', 'Japan', 'Kermadec Islands', '(?<!New\\s)Mexico', \n",
    "          'New Zealand', 'Peru', 'Philippines', 'Russia', 'Taiwan', 'Tonga', 'Washington']"
   ]
  },
  {
   "cell_type": "code",
   "execution_count": 78,
   "id": "11ceae53",
   "metadata": {},
   "outputs": [],
   "source": [
    "df['ring_of_fire'] = df.parsed_place.str.contains(r'|'.join(ring_of_fire), regex=True)"
   ]
  },
  {
   "cell_type": "code",
   "execution_count": 79,
   "id": "d4f247e6",
   "metadata": {},
   "outputs": [
    {
     "name": "stdout",
     "output_type": "stream",
     "text": [
      "inside of RoF: 7188\n",
      "outside of RoF: 2144\n"
     ]
    }
   ],
   "source": [
    "print(f\"inside of RoF: {df['ring_of_fire'].sum()}\")\n",
    "print(f\"outside of RoF: {len(df) - df['ring_of_fire'].sum()}\")"
   ]
  },
  {
   "cell_type": "code",
   "execution_count": 80,
   "id": "99565476",
   "metadata": {},
   "outputs": [
    {
     "data": {
      "text/plain": [
       "True     7188\n",
       "False    2144\n",
       "Name: ring_of_fire, dtype: int64"
      ]
     },
     "execution_count": 80,
     "metadata": {},
     "output_type": "execute_result"
    }
   ],
   "source": [
    "df.ring_of_fire.value_counts()"
   ]
  },
  {
   "cell_type": "code",
   "execution_count": 81,
   "id": "d623f867",
   "metadata": {},
   "outputs": [
    {
     "data": {
      "text/html": [
       "<div>\n",
       "<style scoped>\n",
       "    .dataframe tbody tr th:only-of-type {\n",
       "        vertical-align: middle;\n",
       "    }\n",
       "\n",
       "    .dataframe tbody tr th {\n",
       "        vertical-align: top;\n",
       "    }\n",
       "\n",
       "    .dataframe thead th {\n",
       "        text-align: right;\n",
       "    }\n",
       "</style>\n",
       "<table border=\"1\" class=\"dataframe\">\n",
       "  <thead>\n",
       "    <tr style=\"text-align: right;\">\n",
       "      <th></th>\n",
       "      <th>alert</th>\n",
       "      <th>mag</th>\n",
       "      <th>magType</th>\n",
       "      <th>place</th>\n",
       "      <th>time</th>\n",
       "      <th>title</th>\n",
       "      <th>tsunami</th>\n",
       "      <th>parsed_place</th>\n",
       "      <th>ring_of_fire</th>\n",
       "    </tr>\n",
       "  </thead>\n",
       "  <tbody>\n",
       "    <tr>\n",
       "      <th>9016</th>\n",
       "      <td>NaN</td>\n",
       "      <td>2.5</td>\n",
       "      <td>mb_lg</td>\n",
       "      <td>35km W of Raton, New Mexico</td>\n",
       "      <td>1537304402660</td>\n",
       "      <td>M 2.5 - 35km W of Raton, New Mexico</td>\n",
       "      <td>0</td>\n",
       "      <td>New Mexico</td>\n",
       "      <td>False</td>\n",
       "    </tr>\n",
       "  </tbody>\n",
       "</table>\n",
       "</div>"
      ],
      "text/plain": [
       "     alert  mag magType                        place           time  \\\n",
       "9016   NaN  2.5   mb_lg  35km W of Raton, New Mexico  1537304402660   \n",
       "\n",
       "                                    title  tsunami parsed_place  ring_of_fire  \n",
       "9016  M 2.5 - 35km W of Raton, New Mexico        0   New Mexico         False  "
      ]
     },
     "execution_count": 81,
     "metadata": {},
     "output_type": "execute_result"
    }
   ],
   "source": [
    "df[df.parsed_place == 'New Mexico']"
   ]
  },
  {
   "cell_type": "code",
   "execution_count": 82,
   "id": "29dbd8d0",
   "metadata": {},
   "outputs": [
    {
     "data": {
      "text/plain": [
       "45"
      ]
     },
     "execution_count": 82,
     "metadata": {},
     "output_type": "execute_result"
    }
   ],
   "source": [
    "df[df['ring_of_fire'] & df['tsunami']].shape[0]"
   ]
  },
  {
   "cell_type": "code",
   "execution_count": null,
   "id": "0c8a211e",
   "metadata": {},
   "outputs": [],
   "source": []
  }
 ],
 "metadata": {
  "kernelspec": {
   "display_name": "Python 3 (ipykernel)",
   "language": "python",
   "name": "python3"
  },
  "language_info": {
   "codemirror_mode": {
    "name": "ipython",
    "version": 3
   },
   "file_extension": ".py",
   "mimetype": "text/x-python",
   "name": "python",
   "nbconvert_exporter": "python",
   "pygments_lexer": "ipython3",
   "version": "3.8.17"
  }
 },
 "nbformat": 4,
 "nbformat_minor": 5
}
