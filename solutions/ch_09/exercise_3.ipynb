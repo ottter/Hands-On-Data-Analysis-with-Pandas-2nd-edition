{
 "cells": [
  {
   "cell_type": "markdown",
   "metadata": {},
   "source": [
    "# Predicting Whether a Planet Has a Shorter Year than Earth\n",
    "Using the Open Exoplanet Catalogue database: https://github.com/OpenExoplanetCatalogue/open_exoplanet_catalogue/\n",
    "\n",
    "## Data License\n",
    "Copyright (C) 2012 Hanno Rein\n",
    "\n",
    "Permission is hereby granted, free of charge, to any person obtaining a copy of this database and associated scripts (the \"Database\"), to deal in the Database without restriction, including without limitation the rights to use, copy, modify, merge, publish, distribute, sublicense, and/or sell copies of the Database, and to permit persons to whom the Database is furnished to do so, subject to the following conditions:\n",
    "\n",
    "The above copyright notice and this permission notice shall be included in all copies or substantial portions of the Database. A reference to the Database shall be included in all scientific publications that make use of the Database.\n",
    "\n",
    "THE DATABASE IS PROVIDED \"AS IS\", WITHOUT WARRANTY OF ANY KIND, EXPRESS OR IMPLIED, INCLUDING BUT NOT LIMITED TO THE WARRANTIES OF MERCHANTABILITY, FITNESS FOR A PARTICULAR PURPOSE AND NONINFRINGEMENT. IN NO EVENT SHALL THE AUTHORS OR COPYRIGHT HOLDERS BE LIABLE FOR ANY CLAIM, DAMAGES OR OTHER LIABILITY, WHETHER IN AN ACTION OF CONTRACT, TORT OR OTHERWISE, ARISING FROM, OUT OF OR IN CONNECTION WITH THE DATABASE OR THE USE OR OTHER DEALINGS IN THE DATABASE.\n",
    "\n",
    "## Setup"
   ]
  },
  {
   "cell_type": "code",
   "execution_count": 5,
   "metadata": {},
   "outputs": [
    {
     "data": {
      "text/html": [
       "<div>\n",
       "<style scoped>\n",
       "    .dataframe tbody tr th:only-of-type {\n",
       "        vertical-align: middle;\n",
       "    }\n",
       "\n",
       "    .dataframe tbody tr th {\n",
       "        vertical-align: top;\n",
       "    }\n",
       "\n",
       "    .dataframe thead th {\n",
       "        text-align: right;\n",
       "    }\n",
       "</style>\n",
       "<table border=\"1\" class=\"dataframe\">\n",
       "  <thead>\n",
       "    <tr style=\"text-align: right;\">\n",
       "      <th></th>\n",
       "      <th>discoverymethod</th>\n",
       "      <th>description</th>\n",
       "      <th>periastrontime</th>\n",
       "      <th>discoveryyear</th>\n",
       "      <th>eccentricity</th>\n",
       "      <th>semimajoraxis</th>\n",
       "      <th>period</th>\n",
       "      <th>name</th>\n",
       "      <th>mass</th>\n",
       "      <th>periastron</th>\n",
       "      <th>list</th>\n",
       "      <th>lastupdate</th>\n",
       "    </tr>\n",
       "  </thead>\n",
       "  <tbody>\n",
       "    <tr>\n",
       "      <th>0</th>\n",
       "      <td>RV</td>\n",
       "      <td>11 Com b is a brown dwarf-mass companion to th...</td>\n",
       "      <td>2452899.60</td>\n",
       "      <td>2008.0</td>\n",
       "      <td>0.231</td>\n",
       "      <td>1.290</td>\n",
       "      <td>326.03</td>\n",
       "      <td>11 Com b</td>\n",
       "      <td>19.400</td>\n",
       "      <td>94.800</td>\n",
       "      <td>Confirmed planets</td>\n",
       "      <td>15/09/20</td>\n",
       "    </tr>\n",
       "    <tr>\n",
       "      <th>1</th>\n",
       "      <td>RV</td>\n",
       "      <td>11 Ursae Minoris is a star located in the cons...</td>\n",
       "      <td>2452861.04</td>\n",
       "      <td>2009.0</td>\n",
       "      <td>0.080</td>\n",
       "      <td>1.540</td>\n",
       "      <td>516.22</td>\n",
       "      <td>11 UMi b</td>\n",
       "      <td>11.200</td>\n",
       "      <td>117.630</td>\n",
       "      <td>Confirmed planets</td>\n",
       "      <td>15/09/20</td>\n",
       "    </tr>\n",
       "    <tr>\n",
       "      <th>2</th>\n",
       "      <td>RV</td>\n",
       "      <td>14 Andromedae is an evolved star in the conste...</td>\n",
       "      <td>2452861.40</td>\n",
       "      <td>2008.0</td>\n",
       "      <td>0.000</td>\n",
       "      <td>0.830</td>\n",
       "      <td>185.84</td>\n",
       "      <td>14 And b</td>\n",
       "      <td>4.800</td>\n",
       "      <td>0.000</td>\n",
       "      <td>Confirmed planets</td>\n",
       "      <td>15/09/20</td>\n",
       "    </tr>\n",
       "    <tr>\n",
       "      <th>3</th>\n",
       "      <td>RV</td>\n",
       "      <td>The star 14 Herculis is only 59 light years aw...</td>\n",
       "      <td>NaN</td>\n",
       "      <td>2002.0</td>\n",
       "      <td>0.359</td>\n",
       "      <td>2.864</td>\n",
       "      <td>1766.00</td>\n",
       "      <td>14 Her b</td>\n",
       "      <td>4.975</td>\n",
       "      <td>22.230</td>\n",
       "      <td>Confirmed planets</td>\n",
       "      <td>15/09/21</td>\n",
       "    </tr>\n",
       "    <tr>\n",
       "      <th>4</th>\n",
       "      <td>RV</td>\n",
       "      <td>14 Her c is the second companion in the system...</td>\n",
       "      <td>NaN</td>\n",
       "      <td>2006.0</td>\n",
       "      <td>0.184</td>\n",
       "      <td>9.037</td>\n",
       "      <td>9886.00</td>\n",
       "      <td>14 Her c</td>\n",
       "      <td>7.679</td>\n",
       "      <td>189.076</td>\n",
       "      <td>Controversial</td>\n",
       "      <td>15/09/21</td>\n",
       "    </tr>\n",
       "  </tbody>\n",
       "</table>\n",
       "</div>"
      ],
      "text/plain": [
       "  discoverymethod                                        description  \\\n",
       "0              RV  11 Com b is a brown dwarf-mass companion to th...   \n",
       "1              RV  11 Ursae Minoris is a star located in the cons...   \n",
       "2              RV  14 Andromedae is an evolved star in the conste...   \n",
       "3              RV  The star 14 Herculis is only 59 light years aw...   \n",
       "4              RV  14 Her c is the second companion in the system...   \n",
       "\n",
       "   periastrontime  discoveryyear  eccentricity  semimajoraxis   period  \\\n",
       "0      2452899.60         2008.0         0.231          1.290   326.03   \n",
       "1      2452861.04         2009.0         0.080          1.540   516.22   \n",
       "2      2452861.40         2008.0         0.000          0.830   185.84   \n",
       "3             NaN         2002.0         0.359          2.864  1766.00   \n",
       "4             NaN         2006.0         0.184          9.037  9886.00   \n",
       "\n",
       "       name    mass  periastron               list lastupdate  \n",
       "0  11 Com b  19.400      94.800  Confirmed planets   15/09/20  \n",
       "1  11 UMi b  11.200     117.630  Confirmed planets   15/09/20  \n",
       "2  14 And b   4.800       0.000  Confirmed planets   15/09/20  \n",
       "3  14 Her b   4.975      22.230  Confirmed planets   15/09/21  \n",
       "4  14 Her c   7.679     189.076      Controversial   15/09/21  "
      ]
     },
     "execution_count": 5,
     "metadata": {},
     "output_type": "execute_result"
    }
   ],
   "source": [
    "%matplotlib inline\n",
    "\n",
    "import matplotlib.pyplot as plt\n",
    "import numpy as np\n",
    "import pandas as pd\n",
    "import seaborn as sns\n",
    "\n",
    "planets = pd.read_csv('../../ch_09/data/planets.csv')\n",
    "planets.head()"
   ]
  },
  {
   "cell_type": "markdown",
   "metadata": {},
   "source": [
    "## EDA"
   ]
  },
  {
   "cell_type": "code",
   "execution_count": 6,
   "metadata": {},
   "outputs": [
    {
     "data": {
      "text/plain": [
       "<AxesSubplot:>"
      ]
     },
     "execution_count": 6,
     "metadata": {},
     "output_type": "execute_result"
    },
    {
     "data": {
      "image/png": "[encoded data removed]",
      "text/plain": [
       "<Figure size 700x700 with 2 Axes>"
      ]
     },
     "metadata": {},
     "output_type": "display_data"
    }
   ],
   "source": [
    "fig = plt.figure(figsize=(7, 7))\n",
    "sns.heatmap(\n",
    "    planets.drop(columns='discoveryyear').corr(), \n",
    "    center=0, vmin=-1, vmax=1, square=True, annot=True,\n",
    "    cbar_kws={'shrink': 0.8}\n",
    ")"
   ]
  },
  {
   "cell_type": "code",
   "execution_count": 7,
   "metadata": {},
   "outputs": [
    {
     "name": "stdout",
     "output_type": "stream",
     "text": [
      "<class 'pandas.core.frame.DataFrame'>\n",
      "RangeIndex: 5187 entries, 0 to 5186\n",
      "Data columns (total 4 columns):\n",
      " #   Column         Non-Null Count  Dtype  \n",
      "---  ------         --------------  -----  \n",
      " 0   period         4909 non-null   float64\n",
      " 1   semimajoraxis  2600 non-null   float64\n",
      " 2   eccentricity   2015 non-null   float64\n",
      " 3   mass           2552 non-null   float64\n",
      "dtypes: float64(4)\n",
      "memory usage: 162.2 KB\n"
     ]
    }
   ],
   "source": [
    "planets[['period', 'semimajoraxis', 'eccentricity', 'mass']].info()"
   ]
  },
  {
   "cell_type": "code",
   "execution_count": 8,
   "metadata": {},
   "outputs": [
    {
     "data": {
      "text/html": [
       "<div>\n",
       "<style scoped>\n",
       "    .dataframe tbody tr th:only-of-type {\n",
       "        vertical-align: middle;\n",
       "    }\n",
       "\n",
       "    .dataframe tbody tr th {\n",
       "        vertical-align: top;\n",
       "    }\n",
       "\n",
       "    .dataframe thead th {\n",
       "        text-align: right;\n",
       "    }\n",
       "</style>\n",
       "<table border=\"1\" class=\"dataframe\">\n",
       "  <thead>\n",
       "    <tr style=\"text-align: right;\">\n",
       "      <th></th>\n",
       "      <th>period</th>\n",
       "      <th>semimajoraxis</th>\n",
       "      <th>eccentricity</th>\n",
       "      <th>mass</th>\n",
       "    </tr>\n",
       "  </thead>\n",
       "  <tbody>\n",
       "    <tr>\n",
       "      <th>count</th>\n",
       "      <td>4.909000e+03</td>\n",
       "      <td>2600.000000</td>\n",
       "      <td>2015.000000</td>\n",
       "      <td>2552.000000</td>\n",
       "    </tr>\n",
       "    <tr>\n",
       "      <th>mean</th>\n",
       "      <td>2.189080e+03</td>\n",
       "      <td>7.883031</td>\n",
       "      <td>0.286252</td>\n",
       "      <td>2.292662</td>\n",
       "    </tr>\n",
       "    <tr>\n",
       "      <th>std</th>\n",
       "      <td>1.149292e+05</td>\n",
       "      <td>159.148610</td>\n",
       "      <td>6.237088</td>\n",
       "      <td>7.157556</td>\n",
       "    </tr>\n",
       "    <tr>\n",
       "      <th>min</th>\n",
       "      <td>6.511500e-02</td>\n",
       "      <td>0.004420</td>\n",
       "      <td>-0.129287</td>\n",
       "      <td>0.000008</td>\n",
       "    </tr>\n",
       "    <tr>\n",
       "      <th>25%</th>\n",
       "      <td>4.444480e+00</td>\n",
       "      <td>0.050697</td>\n",
       "      <td>0.000000</td>\n",
       "      <td>0.030950</td>\n",
       "    </tr>\n",
       "    <tr>\n",
       "      <th>50%</th>\n",
       "      <td>1.184900e+01</td>\n",
       "      <td>0.118390</td>\n",
       "      <td>0.080000</td>\n",
       "      <td>0.520000</td>\n",
       "    </tr>\n",
       "    <tr>\n",
       "      <th>75%</th>\n",
       "      <td>4.252159e+01</td>\n",
       "      <td>1.050000</td>\n",
       "      <td>0.210000</td>\n",
       "      <td>2.090000</td>\n",
       "    </tr>\n",
       "    <tr>\n",
       "      <th>max</th>\n",
       "      <td>8.040000e+06</td>\n",
       "      <td>6471.000000</td>\n",
       "      <td>280.000000</td>\n",
       "      <td>263.000000</td>\n",
       "    </tr>\n",
       "  </tbody>\n",
       "</table>\n",
       "</div>"
      ],
      "text/plain": [
       "             period  semimajoraxis  eccentricity         mass\n",
       "count  4.909000e+03    2600.000000   2015.000000  2552.000000\n",
       "mean   2.189080e+03       7.883031      0.286252     2.292662\n",
       "std    1.149292e+05     159.148610      6.237088     7.157556\n",
       "min    6.511500e-02       0.004420     -0.129287     0.000008\n",
       "25%    4.444480e+00       0.050697      0.000000     0.030950\n",
       "50%    1.184900e+01       0.118390      0.080000     0.520000\n",
       "75%    4.252159e+01       1.050000      0.210000     2.090000\n",
       "max    8.040000e+06    6471.000000    280.000000   263.000000"
      ]
     },
     "execution_count": 8,
     "metadata": {},
     "output_type": "execute_result"
    }
   ],
   "source": [
    "planets[['period', 'semimajoraxis', 'eccentricity', 'mass']].describe()"
   ]
  },
  {
   "cell_type": "markdown",
   "metadata": {},
   "source": [
    "## Creating the `shorter_year_than_earth` column"
   ]
  },
  {
   "cell_type": "code",
   "execution_count": 9,
   "metadata": {},
   "outputs": [
    {
     "data": {
      "text/plain": [
       "True     4346\n",
       "False     841\n",
       "Name: shorter_year_than_earth, dtype: int64"
      ]
     },
     "execution_count": 9,
     "metadata": {},
     "output_type": "execute_result"
    }
   ],
   "source": [
    "planets['shorter_year_than_earth'] = planets.period < planets.query('name == \"Earth\"').period.iat[0]\n",
    "planets.shorter_year_than_earth.value_counts()"
   ]
  },
  {
   "cell_type": "markdown",
   "metadata": {},
   "source": [
    "## Logistic Regression"
   ]
  },
  {
   "cell_type": "code",
   "execution_count": 10,
   "metadata": {},
   "outputs": [
    {
     "data": {
      "text/plain": [
       "0.9642857142857143"
      ]
     },
     "execution_count": 10,
     "metadata": {},
     "output_type": "execute_result"
    }
   ],
   "source": [
    "from sklearn.linear_model import LogisticRegression\n",
    "from sklearn.model_selection import train_test_split\n",
    "\n",
    "data = planets[['shorter_year_than_earth', 'semimajoraxis', 'mass', 'eccentricity']].dropna()\n",
    "y = data.pop('shorter_year_than_earth')\n",
    "X = data\n",
    "\n",
    "X_train, X_test, y_train, y_test = train_test_split(\n",
    "    X, y, test_size=0.25, random_state=0, stratify=y\n",
    ")\n",
    "\n",
    "lm = LogisticRegression(random_state=0).fit(X_train, y_train)\n",
    "lm.score(X_test, y_test) "
   ]
  },
  {
   "cell_type": "markdown",
   "metadata": {},
   "source": [
    "## Evaluation\n",
    "Make predictions"
   ]
  },
  {
   "cell_type": "code",
   "execution_count": 11,
   "metadata": {},
   "outputs": [],
   "source": [
    "preds = lm.predict(X_test)"
   ]
  },
  {
   "cell_type": "markdown",
   "metadata": {},
   "source": [
    "Get performance metrics"
   ]
  },
  {
   "cell_type": "code",
   "execution_count": 12,
   "metadata": {},
   "outputs": [
    {
     "name": "stdout",
     "output_type": "stream",
     "text": [
      "              precision    recall  f1-score   support\n",
      "\n",
      "       False       0.97      0.91      0.94       130\n",
      "        True       0.96      0.99      0.98       318\n",
      "\n",
      "    accuracy                           0.96       448\n",
      "   macro avg       0.97      0.95      0.96       448\n",
      "weighted avg       0.96      0.96      0.96       448\n",
      "\n"
     ]
    }
   ],
   "source": [
    "from sklearn.metrics import classification_report\n",
    "print(classification_report(y_test, preds))"
   ]
  },
  {
   "cell_type": "code",
   "execution_count": 4,
   "metadata": {},
   "outputs": [
    {
     "ename": "NameError",
     "evalue": "name 'y_test' is not defined",
     "output_type": "error",
     "traceback": [
      "\u001b[1;31m---------------------------------------------------------------------------\u001b[0m",
      "\u001b[1;31mNameError\u001b[0m                                 Traceback (most recent call last)",
      "Cell \u001b[1;32mIn[4], line 5\u001b[0m\n\u001b[0;32m      2\u001b[0m \u001b[38;5;28;01mfrom\u001b[39;00m \u001b[38;5;21;01msklearn\u001b[39;00m\u001b[38;5;21;01m.\u001b[39;00m\u001b[38;5;21;01mmetrics\u001b[39;00m \u001b[38;5;28;01mimport\u001b[39;00m roc_auc_score\n\u001b[0;32m      4\u001b[0m \u001b[38;5;66;03m# ROC curve is true positive rate against false positive rate\u001b[39;00m\n\u001b[1;32m----> 5\u001b[0m plot_roc(\u001b[43my_test\u001b[49m, lm\u001b[38;5;241m.\u001b[39mpredict_proba(X_test)[:,\u001b[38;5;241m1\u001b[39m])\n\u001b[0;32m      7\u001b[0m probabilities \u001b[38;5;241m=\u001b[39m lm\u001b[38;5;241m.\u001b[39mpredict_proba(X_test)[:, \u001b[38;5;241m1\u001b[39m]\n\u001b[0;32m      9\u001b[0m auc \u001b[38;5;241m=\u001b[39m roc_auc_score(y_test, probabilities)\n",
      "\u001b[1;31mNameError\u001b[0m: name 'y_test' is not defined"
     ]
    }
   ],
   "source": [
    "from ml_utils.classification import plot_roc\n",
    "from sklearn.metrics import roc_auc_score\n",
    "\n",
    "# ROC curve is true positive rate against false positive rate\n",
    "plot_roc(y_test, lm.predict_proba(X_test)[:,1])\n",
    "\n",
    "probabilities = lm.predict_proba(X_test)[:, 1]\n",
    "\n",
    "auc = roc_auc_score(y_test, probabilities)\n",
    "print(f\"AUC: {auc:.2f}\")"
   ]
  },
  {
   "cell_type": "code",
   "execution_count": 13,
   "metadata": {},
   "outputs": [
    {
     "data": {
      "text/plain": [
       "<AxesSubplot:title={'center':'Confusion Matrix'}, xlabel='Actual', ylabel='Model Prediction'>"
      ]
     },
     "execution_count": 13,
     "metadata": {},
     "output_type": "execute_result"
    },
    {
     "data": {
      "image/png": "[encoded data removed]",
      "text/plain": [
       "<Figure size 640x480 with 2 Axes>"
      ]
     },
     "metadata": {},
     "output_type": "display_data"
    }
   ],
   "source": [
    "from ml_utils.classification import confusion_matrix_visual\n",
    "\n",
    "confusion_matrix_visual(y_test, preds, ['>=', 'shorter'])"
   ]
  },
  {
   "cell_type": "markdown",
   "metadata": {},
   "source": [
    "<hr>\n",
    "<div>\n",
    "    <a href=\"./exercise_2.ipynb\">\n",
    "        <button>&#8592; Previous Solution</button>\n",
    "    </a>\n",
    "    <a href=\"./exercise_4.ipynb\">\n",
    "        <button style=\"float: right;\">Next Solution &#8594;</button>\n",
    "    </a>\n",
    "</div>\n",
    "<hr>"
   ]
  }
 ],
 "metadata": {
  "kernelspec": {
   "display_name": "Python 3 (ipykernel)",
   "language": "python",
   "name": "python3"
  },
  "language_info": {
   "codemirror_mode": {
    "name": "ipython",
    "version": 3
   },
   "file_extension": ".py",
   "mimetype": "text/x-python",
   "name": "python",
   "nbconvert_exporter": "python",
   "pygments_lexer": "ipython3",
   "version": "3.8.17"
  }
 },
 "nbformat": 4,
 "nbformat_minor": 4
}
